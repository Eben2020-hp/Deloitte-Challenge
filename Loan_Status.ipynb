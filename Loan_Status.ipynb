{
 "cells": [
  {
   "cell_type": "markdown",
   "metadata": {},
   "source": [
    "<h1 align= \"center\"> Deloitte Machine Learning Challenge </h1>\n",
    "<h3 align= \"center\"> Predict If A Person Will Be A Loan Defaulter or Not.  </h3>"
   ]
  },
  {
   "cell_type": "markdown",
   "metadata": {},
   "source": [
    "<h3 style=\"color: rgb(233, 80, 92);\">\n",
    "    <strong>Overview</strong>\n",
    "</h3>\n",
    "\n",
    "<b>\n",
    "<p>\n",
    "Banks run into losses when a customer doesn't pay their loans on time. Because of this, every year, banks have losses in crores, and this also impacts the country's economic growth to a large extent. In this hackathon, we look at various attributes such as funded amount, location, loan, balance, etc., to predict if a person will be a loan defaulter or not. \n",
    "</p>\n",
    "\n",
    "<p>\n",
    "To solve this problem, MachineHack has created a training dataset of 67,463 rows and 35 columns and a testing dataset of 28,913 rows and 34 columns. The hackathon demands a few pre-requisite skills like big dataset, underfitting vs overfitting, and the ability to optimise “log_loss” to generalise well on unseen data. \n",
    "</p>\n",
    "\n",
    "<h3 style=\"color: rgb(233, 80, 92);\">\n",
    "    <strong>Evaluation</strong>\n",
    "</h3>\n",
    "\n",
    "### <strong> What is the Metric In this competition? </strong>\n",
    "\n",
    "<b> The submission will be evaluated using the Log Loss metric. One can use sklearn.metric.log_loss to calculate the same.</b>"
   ]
  },
  {
   "cell_type": "markdown",
   "metadata": {},
   "source": [
    "### 0. Goal\n",
    "\n",
    "In this Jupyter Notepad, we will be aiming at predicting if a Customer is a Loan Defaulter of Not based on various features.\n",
    "\n",
    "#### All the Lifecycle in A Data Science Project\n",
    "\n",
    "1. **Data Analysis / Data Preprocessing**\n",
    "2. **Feature Engineering**\n",
    "3. **Feature Selection**\n",
    "4. **Model Building**\n",
    "5. **Model Deployment**"
   ]
  },
  {
   "cell_type": "markdown",
   "metadata": {},
   "source": [
    "### 1. Import relevant Dependencies\n",
    "\n",
    "Incase you are getting any error saying the package is not installed while running the below cell, then you can use two methods:\n",
    "- pip install ________.\n",
    "- google 'How to install ________'."
   ]
  },
  {
   "cell_type": "code",
   "execution_count": 1,
   "metadata": {},
   "outputs": [],
   "source": [
    "# Import Dependencies -To see the graphs in the notebook.\n",
    "%matplotlib inline   \n",
    "\n",
    "# Python Imports\n",
    "import math,time,random,datetime\n",
    "\n",
    "# Data Manipulation\n",
    "import numpy as np\n",
    "import pandas as pd\n",
    "\n",
    "# Visualization -This is where the graphs come in.\n",
    "import matplotlib.pyplot as plt\n",
    "import seaborn as sns\n",
    "import missingno\n",
    "plt.style.use('fivethirtyeight')\n",
    "\n",
    "# Ignore Warnings\n",
    "import warnings\n",
    "warnings.filterwarnings('ignore')\n",
    "\n",
    "# Display all the columns of the DataFrame.\n",
    "pd.set_option('display.max_columns', None)"
   ]
  },
  {
   "cell_type": "markdown",
   "metadata": {},
   "source": [
    "### 2. Loading the required Data"
   ]
  },
  {
   "cell_type": "code",
   "execution_count": 2,
   "metadata": {},
   "outputs": [],
   "source": [
    "# Import the train and test data.\n",
    "train = pd.read_csv('train.csv')\n",
    "test = pd.read_csv('test.csv')"
   ]
  },
  {
   "cell_type": "code",
   "execution_count": 3,
   "metadata": {},
   "outputs": [
    {
     "data": {
      "text/html": [
       "<div>\n",
       "<style scoped>\n",
       "    .dataframe tbody tr th:only-of-type {\n",
       "        vertical-align: middle;\n",
       "    }\n",
       "\n",
       "    .dataframe tbody tr th {\n",
       "        vertical-align: top;\n",
       "    }\n",
       "\n",
       "    .dataframe thead th {\n",
       "        text-align: right;\n",
       "    }\n",
       "</style>\n",
       "<table border=\"1\" class=\"dataframe\">\n",
       "  <thead>\n",
       "    <tr style=\"text-align: right;\">\n",
       "      <th></th>\n",
       "      <th>ID</th>\n",
       "      <th>Loan Amount</th>\n",
       "      <th>Funded Amount</th>\n",
       "      <th>Funded Amount Investor</th>\n",
       "      <th>Term</th>\n",
       "      <th>Batch Enrolled</th>\n",
       "      <th>Interest Rate</th>\n",
       "      <th>Grade</th>\n",
       "      <th>Sub Grade</th>\n",
       "      <th>Employment Duration</th>\n",
       "      <th>Home Ownership</th>\n",
       "      <th>Verification Status</th>\n",
       "      <th>Payment Plan</th>\n",
       "      <th>Loan Title</th>\n",
       "      <th>Debit to Income</th>\n",
       "      <th>Delinquency - two years</th>\n",
       "      <th>Inquires - six months</th>\n",
       "      <th>Open Account</th>\n",
       "      <th>Public Record</th>\n",
       "      <th>Revolving Balance</th>\n",
       "      <th>Revolving Utilities</th>\n",
       "      <th>Total Accounts</th>\n",
       "      <th>Initial List Status</th>\n",
       "      <th>Total Received Interest</th>\n",
       "      <th>Total Received Late Fee</th>\n",
       "      <th>Recoveries</th>\n",
       "      <th>Collection Recovery Fee</th>\n",
       "      <th>Collection 12 months Medical</th>\n",
       "      <th>Application Type</th>\n",
       "      <th>Last week Pay</th>\n",
       "      <th>Accounts Delinquent</th>\n",
       "      <th>Total Collection Amount</th>\n",
       "      <th>Total Current Balance</th>\n",
       "      <th>Total Revolving Credit Limit</th>\n",
       "      <th>Loan Status</th>\n",
       "    </tr>\n",
       "  </thead>\n",
       "  <tbody>\n",
       "    <tr>\n",
       "      <th>0</th>\n",
       "      <td>65087372</td>\n",
       "      <td>10000</td>\n",
       "      <td>32236</td>\n",
       "      <td>12329.36286</td>\n",
       "      <td>59</td>\n",
       "      <td>BAT2522922</td>\n",
       "      <td>11.135007</td>\n",
       "      <td>B</td>\n",
       "      <td>C4</td>\n",
       "      <td>MORTGAGE</td>\n",
       "      <td>176346.62670</td>\n",
       "      <td>Not Verified</td>\n",
       "      <td>n</td>\n",
       "      <td>Debt Consolidation</td>\n",
       "      <td>16.284758</td>\n",
       "      <td>1</td>\n",
       "      <td>0</td>\n",
       "      <td>13</td>\n",
       "      <td>0</td>\n",
       "      <td>24246</td>\n",
       "      <td>74.932551</td>\n",
       "      <td>7</td>\n",
       "      <td>w</td>\n",
       "      <td>2929.646315</td>\n",
       "      <td>0.102055</td>\n",
       "      <td>2.498291</td>\n",
       "      <td>0.793724</td>\n",
       "      <td>0</td>\n",
       "      <td>INDIVIDUAL</td>\n",
       "      <td>49</td>\n",
       "      <td>0</td>\n",
       "      <td>31</td>\n",
       "      <td>311301</td>\n",
       "      <td>6619</td>\n",
       "      <td>0</td>\n",
       "    </tr>\n",
       "    <tr>\n",
       "      <th>1</th>\n",
       "      <td>1450153</td>\n",
       "      <td>3609</td>\n",
       "      <td>11940</td>\n",
       "      <td>12191.99692</td>\n",
       "      <td>59</td>\n",
       "      <td>BAT1586599</td>\n",
       "      <td>12.237563</td>\n",
       "      <td>C</td>\n",
       "      <td>D3</td>\n",
       "      <td>RENT</td>\n",
       "      <td>39833.92100</td>\n",
       "      <td>Source Verified</td>\n",
       "      <td>n</td>\n",
       "      <td>Debt consolidation</td>\n",
       "      <td>15.412409</td>\n",
       "      <td>0</td>\n",
       "      <td>0</td>\n",
       "      <td>12</td>\n",
       "      <td>0</td>\n",
       "      <td>812</td>\n",
       "      <td>78.297186</td>\n",
       "      <td>13</td>\n",
       "      <td>f</td>\n",
       "      <td>772.769385</td>\n",
       "      <td>0.036181</td>\n",
       "      <td>2.377215</td>\n",
       "      <td>0.974821</td>\n",
       "      <td>0</td>\n",
       "      <td>INDIVIDUAL</td>\n",
       "      <td>109</td>\n",
       "      <td>0</td>\n",
       "      <td>53</td>\n",
       "      <td>182610</td>\n",
       "      <td>20885</td>\n",
       "      <td>0</td>\n",
       "    </tr>\n",
       "    <tr>\n",
       "      <th>2</th>\n",
       "      <td>1969101</td>\n",
       "      <td>28276</td>\n",
       "      <td>9311</td>\n",
       "      <td>21603.22455</td>\n",
       "      <td>59</td>\n",
       "      <td>BAT2136391</td>\n",
       "      <td>12.545884</td>\n",
       "      <td>F</td>\n",
       "      <td>D4</td>\n",
       "      <td>MORTGAGE</td>\n",
       "      <td>91506.69105</td>\n",
       "      <td>Source Verified</td>\n",
       "      <td>n</td>\n",
       "      <td>Debt Consolidation</td>\n",
       "      <td>28.137619</td>\n",
       "      <td>0</td>\n",
       "      <td>0</td>\n",
       "      <td>14</td>\n",
       "      <td>0</td>\n",
       "      <td>1843</td>\n",
       "      <td>2.073040</td>\n",
       "      <td>20</td>\n",
       "      <td>w</td>\n",
       "      <td>863.324396</td>\n",
       "      <td>18.778660</td>\n",
       "      <td>4.316277</td>\n",
       "      <td>1.020075</td>\n",
       "      <td>0</td>\n",
       "      <td>INDIVIDUAL</td>\n",
       "      <td>66</td>\n",
       "      <td>0</td>\n",
       "      <td>34</td>\n",
       "      <td>89801</td>\n",
       "      <td>26155</td>\n",
       "      <td>0</td>\n",
       "    </tr>\n",
       "    <tr>\n",
       "      <th>3</th>\n",
       "      <td>6651430</td>\n",
       "      <td>11170</td>\n",
       "      <td>6954</td>\n",
       "      <td>17877.15585</td>\n",
       "      <td>59</td>\n",
       "      <td>BAT2428731</td>\n",
       "      <td>16.731201</td>\n",
       "      <td>C</td>\n",
       "      <td>C3</td>\n",
       "      <td>MORTGAGE</td>\n",
       "      <td>108286.57590</td>\n",
       "      <td>Source Verified</td>\n",
       "      <td>n</td>\n",
       "      <td>Debt consolidation</td>\n",
       "      <td>18.043730</td>\n",
       "      <td>1</td>\n",
       "      <td>0</td>\n",
       "      <td>7</td>\n",
       "      <td>0</td>\n",
       "      <td>13819</td>\n",
       "      <td>67.467951</td>\n",
       "      <td>12</td>\n",
       "      <td>w</td>\n",
       "      <td>288.173196</td>\n",
       "      <td>0.044131</td>\n",
       "      <td>0.107020</td>\n",
       "      <td>0.749971</td>\n",
       "      <td>0</td>\n",
       "      <td>INDIVIDUAL</td>\n",
       "      <td>39</td>\n",
       "      <td>0</td>\n",
       "      <td>40</td>\n",
       "      <td>9189</td>\n",
       "      <td>60214</td>\n",
       "      <td>0</td>\n",
       "    </tr>\n",
       "    <tr>\n",
       "      <th>4</th>\n",
       "      <td>14354669</td>\n",
       "      <td>16890</td>\n",
       "      <td>13226</td>\n",
       "      <td>13539.92667</td>\n",
       "      <td>59</td>\n",
       "      <td>BAT5341619</td>\n",
       "      <td>15.008300</td>\n",
       "      <td>C</td>\n",
       "      <td>D4</td>\n",
       "      <td>MORTGAGE</td>\n",
       "      <td>44234.82545</td>\n",
       "      <td>Source Verified</td>\n",
       "      <td>n</td>\n",
       "      <td>Credit card refinancing</td>\n",
       "      <td>17.209886</td>\n",
       "      <td>1</td>\n",
       "      <td>3</td>\n",
       "      <td>13</td>\n",
       "      <td>1</td>\n",
       "      <td>1544</td>\n",
       "      <td>85.250761</td>\n",
       "      <td>22</td>\n",
       "      <td>w</td>\n",
       "      <td>129.239553</td>\n",
       "      <td>19.306646</td>\n",
       "      <td>1294.818751</td>\n",
       "      <td>0.368953</td>\n",
       "      <td>0</td>\n",
       "      <td>INDIVIDUAL</td>\n",
       "      <td>18</td>\n",
       "      <td>0</td>\n",
       "      <td>430</td>\n",
       "      <td>126029</td>\n",
       "      <td>22579</td>\n",
       "      <td>0</td>\n",
       "    </tr>\n",
       "  </tbody>\n",
       "</table>\n",
       "</div>"
      ],
      "text/plain": [
       "         ID  Loan Amount  Funded Amount  Funded Amount Investor  Term  \\\n",
       "0  65087372        10000          32236             12329.36286    59   \n",
       "1   1450153         3609          11940             12191.99692    59   \n",
       "2   1969101        28276           9311             21603.22455    59   \n",
       "3   6651430        11170           6954             17877.15585    59   \n",
       "4  14354669        16890          13226             13539.92667    59   \n",
       "\n",
       "  Batch Enrolled  Interest Rate Grade Sub Grade Employment Duration  \\\n",
       "0     BAT2522922      11.135007     B        C4            MORTGAGE   \n",
       "1     BAT1586599      12.237563     C        D3                RENT   \n",
       "2     BAT2136391      12.545884     F        D4            MORTGAGE   \n",
       "3     BAT2428731      16.731201     C        C3            MORTGAGE   \n",
       "4     BAT5341619      15.008300     C        D4            MORTGAGE   \n",
       "\n",
       "   Home Ownership Verification Status Payment Plan               Loan Title  \\\n",
       "0    176346.62670        Not Verified            n       Debt Consolidation   \n",
       "1     39833.92100     Source Verified            n       Debt consolidation   \n",
       "2     91506.69105     Source Verified            n       Debt Consolidation   \n",
       "3    108286.57590     Source Verified            n       Debt consolidation   \n",
       "4     44234.82545     Source Verified            n  Credit card refinancing   \n",
       "\n",
       "   Debit to Income  Delinquency - two years  Inquires - six months  \\\n",
       "0        16.284758                        1                      0   \n",
       "1        15.412409                        0                      0   \n",
       "2        28.137619                        0                      0   \n",
       "3        18.043730                        1                      0   \n",
       "4        17.209886                        1                      3   \n",
       "\n",
       "   Open Account  Public Record  Revolving Balance  Revolving Utilities  \\\n",
       "0            13              0              24246            74.932551   \n",
       "1            12              0                812            78.297186   \n",
       "2            14              0               1843             2.073040   \n",
       "3             7              0              13819            67.467951   \n",
       "4            13              1               1544            85.250761   \n",
       "\n",
       "   Total Accounts Initial List Status  Total Received Interest  \\\n",
       "0               7                   w              2929.646315   \n",
       "1              13                   f               772.769385   \n",
       "2              20                   w               863.324396   \n",
       "3              12                   w               288.173196   \n",
       "4              22                   w               129.239553   \n",
       "\n",
       "   Total Received Late Fee   Recoveries  Collection Recovery Fee  \\\n",
       "0                 0.102055     2.498291                 0.793724   \n",
       "1                 0.036181     2.377215                 0.974821   \n",
       "2                18.778660     4.316277                 1.020075   \n",
       "3                 0.044131     0.107020                 0.749971   \n",
       "4                19.306646  1294.818751                 0.368953   \n",
       "\n",
       "   Collection 12 months Medical Application Type  Last week Pay  \\\n",
       "0                             0       INDIVIDUAL             49   \n",
       "1                             0       INDIVIDUAL            109   \n",
       "2                             0       INDIVIDUAL             66   \n",
       "3                             0       INDIVIDUAL             39   \n",
       "4                             0       INDIVIDUAL             18   \n",
       "\n",
       "   Accounts Delinquent  Total Collection Amount  Total Current Balance  \\\n",
       "0                    0                       31                 311301   \n",
       "1                    0                       53                 182610   \n",
       "2                    0                       34                  89801   \n",
       "3                    0                       40                   9189   \n",
       "4                    0                      430                 126029   \n",
       "\n",
       "   Total Revolving Credit Limit  Loan Status  \n",
       "0                          6619            0  \n",
       "1                         20885            0  \n",
       "2                         26155            0  \n",
       "3                         60214            0  \n",
       "4                         22579            0  "
      ]
     },
     "execution_count": 3,
     "metadata": {},
     "output_type": "execute_result"
    }
   ],
   "source": [
    "# Viewing the train dataset\n",
    "train.head() # --> First 5 Rows."
   ]
  },
  {
   "cell_type": "markdown",
   "metadata": {},
   "source": [
    "#### Data Dictionary\n",
    "\n",
    "| Column | Description/Reference | \n",
    "| ------ | ----------- |\n",
    "| ID | Unique Representative ID |\n",
    "| Loan Amount | Loan Amount applied |\n",
    "| Funded Amount | Loan Amount Funded |\n",
    "| Funded Amount Invester | Loan Amount approved by the Invester |\n",
    "| Term | Term of loan (months) |\n",
    "| Batch Enrolled | Batch number of Representative |\n",
    "| Interest Rate | Interest Rate of the loan |\n",
    "| Grade | Grade by Bank to the Customer |\n",
    "| Sub Grade | Sub-Grade by Bank to the Customer |\n",
    "| Employment Duration | Duration | \n",
    "| Home Ownership | Ownership of home |\n",
    "| Verification Status | Income Verification by Bank |\n",
    "| Payment Plan | If any Payment Plan has started against loan |\n",
    "| Loan Title | Title of the loan |\n",
    "| Debit to Income | Ratio of Representative's Total Monthly Debt Repayment divided by Self Reported Monthly Income (excluding Mortgage) |\n",
    "| Delinquency - two years | Number of 30+ days Delinquency (Neglect ones duty) in past 2 Years |\n",
    "| Inquires - six months | Total Number of Inquiries in last 6 Months |\n",
    "| Open Account | Number of Open Credit line in Representative's credit line |\n",
    "| Public Record | Number of Derogatory (disrespectful) public records |\n",
    "| Revolving Balance | Total Credit Revolving balance |\n",
    "| Revolving Utilities | Amount of credit a Representative is using relative to Revolving Balance |\n",
    "| Total Accounts | Total Number of Credit lines available in Representatives Credit line |\n",
    "| Initial List Status | Unique Listing Status of the Loan - W(Waiting), F(Forwarded) |\n",
    "| Total Received Interest | Total Interest received till Date |\n",
    "| Total Received Late Fee | Total Late Fee received till Date |\n",
    "| Recoveries | Post Charge off Gross Recovery |\n",
    "| Collection Recovery Fee | Post Charge off Collection Fee |\n",
    "| Collection 12 months Medical | Total Collections in last 12 months excluding Medical Collections |\n",
    "| Application Type | Indicates when the Representative is an Individual or Joint |\n",
    "| Last week Pay | Indicates how long (in weeks) a Representative has paid EMI after Batch Enrolled |\n",
    "| Accounts Delinquent | Number of Accounts on which the Representative is Delinquent |\n",
    "| Total Collection Amount | Total Collection Amount ever Owed |\n",
    "| Total Current Balance | Total Current balance from all Accounts |\n",
    "| Total Revolving Credit Limit | Total Revolving Credit Limit |\n",
    "| Loan Status | 1 = Defaulter, 0 = Non Defaulters |\n",
    "\n",
    "<br></br>\n",
    "___\n",
    "\n",
    "##### Financial Concepts\n",
    "\n",
    "1. **Credit Line (https://www.investopedia.com/articles/personal-finance/072913/basics-lines-credit.asp):** A line of credit is a flexible loan from a bank or financial institution. Similar to a credit card that offers you a limited amount of funds—funds that you can use when, if, and how you wish—a line of credit is a defined amount of money that you can access as needed and then repay immediately or over a prespecified period of time.\n",
    "\n",
    "2. **Revolving Balance (https://www.capitalone.com/learn-grow/money-management/revolving-credit-balance/):** If you don’t pay the balance on your revolving credit account in full every month, the unpaid portion carries over to the next month. That’s called a revolving balance. \n",
    "\n",
    "3. **Revolving Credit Limit (https://www.capitalone.com/learn-grow/money-management/revolving-credit-balance/):** If you’re approved for a revolving credit account, like a credit card, the lender will set a credit limit. The credit limit is the maximum amount you can charge to that account.\n",
    "\n",
    "4. **Credit Limit (https://www.investopedia.com/terms/c/credit_limit.asp):** The term credit limit refers to the maximum amount of credit a financial institution extends to a client. A lending institution extends a credit limit on a credit card or a line of credit. Lenders usually set credit limits based on the information given by the credit-seeking applicant. A credit limit is a factor that affects consumers' credit scores and can impact their ability to obtain credit in the future.\n",
    "\n",
    "5. **Loan Defaulting (https://www.bankrate.com/glossary/l/loan-default/#:~:text=Defaulting%20on%20a%20loan%20is,he%20defaults%20on%20the%20loan.):** Defaulting on a loan is the failure of a borrower to pay the principal or interest on a security or loan.\n",
    "\n",
    "6. **Payment Plan (https://www.jifiti.com/glossary/payment-plans/):** A payment plan can refer to paying off any outstanding debt, or sometimes more than one debt by means of consolidation into an organized payment schedule.\n",
    "\n",
    "7. **How is Revolving Credit Different from Installment?**: https://www.experian.com/blogs/ask-experian/what-is-revolving-credit/#:~:text=A%20revolving%20credit%20account%20sets,or%20%22revolve%22%20the%20balance."
   ]
  },
  {
   "cell_type": "code",
   "execution_count": 4,
   "metadata": {},
   "outputs": [
    {
     "name": "stdout",
     "output_type": "stream",
     "text": [
      "Length of the train dataset:  67463\n",
      "Dimensionality of the test dataset:  (28913, 35)\n"
     ]
    }
   ],
   "source": [
    "print(\"Length of the train dataset: \", len(train))\n",
    "print(\"Dimensionality of the test dataset: \", test.shape)"
   ]
  },
  {
   "cell_type": "markdown",
   "metadata": {},
   "source": [
    "### 3. Exploratory Data Analysis & Feature Engineering\n",
    "**PROBLEM:** To Predict the Loan Defaulters based on the information provided in the Test dataset.\n"
   ]
  },
  {
   "cell_type": "code",
   "execution_count": 5,
   "metadata": {},
   "outputs": [],
   "source": [
    "## Interchanging the Column names\n",
    "train.rename(columns= {'Employment Duration': 'Home Ownership', 'Home Ownership': 'Employment Duration'}, inplace=True)\n",
    "test.rename(columns= {'Employment Duration': 'Home Ownership', 'Home Ownership': 'Employment Duration'}, inplace=True)"
   ]
  },
  {
   "cell_type": "code",
   "execution_count": 6,
   "metadata": {},
   "outputs": [
    {
     "data": {
      "text/html": [
       "<div>\n",
       "<style scoped>\n",
       "    .dataframe tbody tr th:only-of-type {\n",
       "        vertical-align: middle;\n",
       "    }\n",
       "\n",
       "    .dataframe tbody tr th {\n",
       "        vertical-align: top;\n",
       "    }\n",
       "\n",
       "    .dataframe thead th {\n",
       "        text-align: right;\n",
       "    }\n",
       "</style>\n",
       "<table border=\"1\" class=\"dataframe\">\n",
       "  <thead>\n",
       "    <tr style=\"text-align: right;\">\n",
       "      <th></th>\n",
       "      <th>ID</th>\n",
       "      <th>Loan Amount</th>\n",
       "      <th>Funded Amount</th>\n",
       "      <th>Funded Amount Investor</th>\n",
       "      <th>Term</th>\n",
       "      <th>Batch Enrolled</th>\n",
       "      <th>Interest Rate</th>\n",
       "      <th>Grade</th>\n",
       "      <th>Sub Grade</th>\n",
       "      <th>Home Ownership</th>\n",
       "      <th>Employment Duration</th>\n",
       "      <th>Verification Status</th>\n",
       "      <th>Payment Plan</th>\n",
       "      <th>Loan Title</th>\n",
       "      <th>Debit to Income</th>\n",
       "      <th>Delinquency - two years</th>\n",
       "      <th>Inquires - six months</th>\n",
       "      <th>Open Account</th>\n",
       "      <th>Public Record</th>\n",
       "      <th>Revolving Balance</th>\n",
       "      <th>Revolving Utilities</th>\n",
       "      <th>Total Accounts</th>\n",
       "      <th>Initial List Status</th>\n",
       "      <th>Total Received Interest</th>\n",
       "      <th>Total Received Late Fee</th>\n",
       "      <th>Recoveries</th>\n",
       "      <th>Collection Recovery Fee</th>\n",
       "      <th>Collection 12 months Medical</th>\n",
       "      <th>Application Type</th>\n",
       "      <th>Last week Pay</th>\n",
       "      <th>Accounts Delinquent</th>\n",
       "      <th>Total Collection Amount</th>\n",
       "      <th>Total Current Balance</th>\n",
       "      <th>Total Revolving Credit Limit</th>\n",
       "      <th>Loan Status</th>\n",
       "    </tr>\n",
       "  </thead>\n",
       "  <tbody>\n",
       "    <tr>\n",
       "      <th>0</th>\n",
       "      <td>65087372</td>\n",
       "      <td>10000</td>\n",
       "      <td>32236</td>\n",
       "      <td>12329.36286</td>\n",
       "      <td>59</td>\n",
       "      <td>BAT2522922</td>\n",
       "      <td>11.135007</td>\n",
       "      <td>B</td>\n",
       "      <td>C4</td>\n",
       "      <td>MORTGAGE</td>\n",
       "      <td>176346.62670</td>\n",
       "      <td>Not Verified</td>\n",
       "      <td>n</td>\n",
       "      <td>Debt Consolidation</td>\n",
       "      <td>16.284758</td>\n",
       "      <td>1</td>\n",
       "      <td>0</td>\n",
       "      <td>13</td>\n",
       "      <td>0</td>\n",
       "      <td>24246</td>\n",
       "      <td>74.932551</td>\n",
       "      <td>7</td>\n",
       "      <td>w</td>\n",
       "      <td>2929.646315</td>\n",
       "      <td>0.102055</td>\n",
       "      <td>2.498291</td>\n",
       "      <td>0.793724</td>\n",
       "      <td>0</td>\n",
       "      <td>INDIVIDUAL</td>\n",
       "      <td>49</td>\n",
       "      <td>0</td>\n",
       "      <td>31</td>\n",
       "      <td>311301</td>\n",
       "      <td>6619</td>\n",
       "      <td>0</td>\n",
       "    </tr>\n",
       "    <tr>\n",
       "      <th>1</th>\n",
       "      <td>1450153</td>\n",
       "      <td>3609</td>\n",
       "      <td>11940</td>\n",
       "      <td>12191.99692</td>\n",
       "      <td>59</td>\n",
       "      <td>BAT1586599</td>\n",
       "      <td>12.237563</td>\n",
       "      <td>C</td>\n",
       "      <td>D3</td>\n",
       "      <td>RENT</td>\n",
       "      <td>39833.92100</td>\n",
       "      <td>Source Verified</td>\n",
       "      <td>n</td>\n",
       "      <td>Debt consolidation</td>\n",
       "      <td>15.412409</td>\n",
       "      <td>0</td>\n",
       "      <td>0</td>\n",
       "      <td>12</td>\n",
       "      <td>0</td>\n",
       "      <td>812</td>\n",
       "      <td>78.297186</td>\n",
       "      <td>13</td>\n",
       "      <td>f</td>\n",
       "      <td>772.769385</td>\n",
       "      <td>0.036181</td>\n",
       "      <td>2.377215</td>\n",
       "      <td>0.974821</td>\n",
       "      <td>0</td>\n",
       "      <td>INDIVIDUAL</td>\n",
       "      <td>109</td>\n",
       "      <td>0</td>\n",
       "      <td>53</td>\n",
       "      <td>182610</td>\n",
       "      <td>20885</td>\n",
       "      <td>0</td>\n",
       "    </tr>\n",
       "    <tr>\n",
       "      <th>2</th>\n",
       "      <td>1969101</td>\n",
       "      <td>28276</td>\n",
       "      <td>9311</td>\n",
       "      <td>21603.22455</td>\n",
       "      <td>59</td>\n",
       "      <td>BAT2136391</td>\n",
       "      <td>12.545884</td>\n",
       "      <td>F</td>\n",
       "      <td>D4</td>\n",
       "      <td>MORTGAGE</td>\n",
       "      <td>91506.69105</td>\n",
       "      <td>Source Verified</td>\n",
       "      <td>n</td>\n",
       "      <td>Debt Consolidation</td>\n",
       "      <td>28.137619</td>\n",
       "      <td>0</td>\n",
       "      <td>0</td>\n",
       "      <td>14</td>\n",
       "      <td>0</td>\n",
       "      <td>1843</td>\n",
       "      <td>2.073040</td>\n",
       "      <td>20</td>\n",
       "      <td>w</td>\n",
       "      <td>863.324396</td>\n",
       "      <td>18.778660</td>\n",
       "      <td>4.316277</td>\n",
       "      <td>1.020075</td>\n",
       "      <td>0</td>\n",
       "      <td>INDIVIDUAL</td>\n",
       "      <td>66</td>\n",
       "      <td>0</td>\n",
       "      <td>34</td>\n",
       "      <td>89801</td>\n",
       "      <td>26155</td>\n",
       "      <td>0</td>\n",
       "    </tr>\n",
       "    <tr>\n",
       "      <th>3</th>\n",
       "      <td>6651430</td>\n",
       "      <td>11170</td>\n",
       "      <td>6954</td>\n",
       "      <td>17877.15585</td>\n",
       "      <td>59</td>\n",
       "      <td>BAT2428731</td>\n",
       "      <td>16.731201</td>\n",
       "      <td>C</td>\n",
       "      <td>C3</td>\n",
       "      <td>MORTGAGE</td>\n",
       "      <td>108286.57590</td>\n",
       "      <td>Source Verified</td>\n",
       "      <td>n</td>\n",
       "      <td>Debt consolidation</td>\n",
       "      <td>18.043730</td>\n",
       "      <td>1</td>\n",
       "      <td>0</td>\n",
       "      <td>7</td>\n",
       "      <td>0</td>\n",
       "      <td>13819</td>\n",
       "      <td>67.467951</td>\n",
       "      <td>12</td>\n",
       "      <td>w</td>\n",
       "      <td>288.173196</td>\n",
       "      <td>0.044131</td>\n",
       "      <td>0.107020</td>\n",
       "      <td>0.749971</td>\n",
       "      <td>0</td>\n",
       "      <td>INDIVIDUAL</td>\n",
       "      <td>39</td>\n",
       "      <td>0</td>\n",
       "      <td>40</td>\n",
       "      <td>9189</td>\n",
       "      <td>60214</td>\n",
       "      <td>0</td>\n",
       "    </tr>\n",
       "    <tr>\n",
       "      <th>4</th>\n",
       "      <td>14354669</td>\n",
       "      <td>16890</td>\n",
       "      <td>13226</td>\n",
       "      <td>13539.92667</td>\n",
       "      <td>59</td>\n",
       "      <td>BAT5341619</td>\n",
       "      <td>15.008300</td>\n",
       "      <td>C</td>\n",
       "      <td>D4</td>\n",
       "      <td>MORTGAGE</td>\n",
       "      <td>44234.82545</td>\n",
       "      <td>Source Verified</td>\n",
       "      <td>n</td>\n",
       "      <td>Credit card refinancing</td>\n",
       "      <td>17.209886</td>\n",
       "      <td>1</td>\n",
       "      <td>3</td>\n",
       "      <td>13</td>\n",
       "      <td>1</td>\n",
       "      <td>1544</td>\n",
       "      <td>85.250761</td>\n",
       "      <td>22</td>\n",
       "      <td>w</td>\n",
       "      <td>129.239553</td>\n",
       "      <td>19.306646</td>\n",
       "      <td>1294.818751</td>\n",
       "      <td>0.368953</td>\n",
       "      <td>0</td>\n",
       "      <td>INDIVIDUAL</td>\n",
       "      <td>18</td>\n",
       "      <td>0</td>\n",
       "      <td>430</td>\n",
       "      <td>126029</td>\n",
       "      <td>22579</td>\n",
       "      <td>0</td>\n",
       "    </tr>\n",
       "  </tbody>\n",
       "</table>\n",
       "</div>"
      ],
      "text/plain": [
       "         ID  Loan Amount  Funded Amount  Funded Amount Investor  Term  \\\n",
       "0  65087372        10000          32236             12329.36286    59   \n",
       "1   1450153         3609          11940             12191.99692    59   \n",
       "2   1969101        28276           9311             21603.22455    59   \n",
       "3   6651430        11170           6954             17877.15585    59   \n",
       "4  14354669        16890          13226             13539.92667    59   \n",
       "\n",
       "  Batch Enrolled  Interest Rate Grade Sub Grade Home Ownership  \\\n",
       "0     BAT2522922      11.135007     B        C4       MORTGAGE   \n",
       "1     BAT1586599      12.237563     C        D3           RENT   \n",
       "2     BAT2136391      12.545884     F        D4       MORTGAGE   \n",
       "3     BAT2428731      16.731201     C        C3       MORTGAGE   \n",
       "4     BAT5341619      15.008300     C        D4       MORTGAGE   \n",
       "\n",
       "   Employment Duration Verification Status Payment Plan  \\\n",
       "0         176346.62670        Not Verified            n   \n",
       "1          39833.92100     Source Verified            n   \n",
       "2          91506.69105     Source Verified            n   \n",
       "3         108286.57590     Source Verified            n   \n",
       "4          44234.82545     Source Verified            n   \n",
       "\n",
       "                Loan Title  Debit to Income  Delinquency - two years  \\\n",
       "0       Debt Consolidation        16.284758                        1   \n",
       "1       Debt consolidation        15.412409                        0   \n",
       "2       Debt Consolidation        28.137619                        0   \n",
       "3       Debt consolidation        18.043730                        1   \n",
       "4  Credit card refinancing        17.209886                        1   \n",
       "\n",
       "   Inquires - six months  Open Account  Public Record  Revolving Balance  \\\n",
       "0                      0            13              0              24246   \n",
       "1                      0            12              0                812   \n",
       "2                      0            14              0               1843   \n",
       "3                      0             7              0              13819   \n",
       "4                      3            13              1               1544   \n",
       "\n",
       "   Revolving Utilities  Total Accounts Initial List Status  \\\n",
       "0            74.932551               7                   w   \n",
       "1            78.297186              13                   f   \n",
       "2             2.073040              20                   w   \n",
       "3            67.467951              12                   w   \n",
       "4            85.250761              22                   w   \n",
       "\n",
       "   Total Received Interest  Total Received Late Fee   Recoveries  \\\n",
       "0              2929.646315                 0.102055     2.498291   \n",
       "1               772.769385                 0.036181     2.377215   \n",
       "2               863.324396                18.778660     4.316277   \n",
       "3               288.173196                 0.044131     0.107020   \n",
       "4               129.239553                19.306646  1294.818751   \n",
       "\n",
       "   Collection Recovery Fee  Collection 12 months Medical Application Type  \\\n",
       "0                 0.793724                             0       INDIVIDUAL   \n",
       "1                 0.974821                             0       INDIVIDUAL   \n",
       "2                 1.020075                             0       INDIVIDUAL   \n",
       "3                 0.749971                             0       INDIVIDUAL   \n",
       "4                 0.368953                             0       INDIVIDUAL   \n",
       "\n",
       "   Last week Pay  Accounts Delinquent  Total Collection Amount  \\\n",
       "0             49                    0                       31   \n",
       "1            109                    0                       53   \n",
       "2             66                    0                       34   \n",
       "3             39                    0                       40   \n",
       "4             18                    0                      430   \n",
       "\n",
       "   Total Current Balance  Total Revolving Credit Limit  Loan Status  \n",
       "0                 311301                          6619            0  \n",
       "1                 182610                         20885            0  \n",
       "2                  89801                         26155            0  \n",
       "3                   9189                         60214            0  \n",
       "4                 126029                         22579            0  "
      ]
     },
     "execution_count": 6,
     "metadata": {},
     "output_type": "execute_result"
    }
   ],
   "source": [
    "train.head()"
   ]
  },
  {
   "cell_type": "code",
   "execution_count": 7,
   "metadata": {},
   "outputs": [
    {
     "name": "stdout",
     "output_type": "stream",
     "text": [
      "Are there any duplicate values in train data: False\n",
      "Are there any duplicate values in test data: False\n"
     ]
    }
   ],
   "source": [
    "### Cheking for Duplicate Observations (Train & Test)\n",
    "print(f\"Are there any duplicate values in train data: {train['ID'].duplicated().any()}\")\n",
    "print(f\"Are there any duplicate values in test data: {test['ID'].duplicated().any()}\")"
   ]
  },
  {
   "cell_type": "markdown",
   "metadata": {},
   "source": [
    "#### Checking for Missing Value"
   ]
  },
  {
   "cell_type": "code",
   "execution_count": 8,
   "metadata": {},
   "outputs": [
    {
     "data": {
      "text/plain": [
       "<AxesSubplot:>"
      ]
     },
     "execution_count": 8,
     "metadata": {},
     "output_type": "execute_result"
    },
    {
     "data": {
      "image/png": "[encoded data removed]",
      "text/plain": [
       "<Figure size 1800x720 with 2 Axes>"
      ]
     },
     "metadata": {},
     "output_type": "display_data"
    }
   ],
   "source": [
    "## Visualize\n",
    "missingno.matrix(train)"
   ]
  },
  {
   "cell_type": "code",
   "execution_count": 9,
   "metadata": {},
   "outputs": [
    {
     "name": "stdout",
     "output_type": "stream",
     "text": [
      "No missing values in our Data\n"
     ]
    }
   ],
   "source": [
    "## Calculations\n",
    "for column in train.columns:\n",
    "    if (train[column].isnull().any() == True):\n",
    "        print(f\"{column} has {train[column].isnull().sum()} missing values.\")\n",
    "else:\n",
    "    print(\"No missing values in our Data\")"
   ]
  },
  {
   "cell_type": "code",
   "execution_count": 10,
   "metadata": {},
   "outputs": [
    {
     "name": "stdout",
     "output_type": "stream",
     "text": [
      "Count of Applied Loan amount that is less than the amount Funded: 31166\n",
      "Count of Applied Loan amount that is less than the amount Approved: 28337\n",
      "Count of Loan amount Approved that is less than the amount Funded: 35021\n"
     ]
    }
   ],
   "source": [
    "## Validating the below Columns \n",
    "print(f\"Count of Applied Loan amount that is less than the amount Funded: {train[train['Loan Amount'] < train['Funded Amount']].shape[0]}\")\n",
    "print(f\"Count of Applied Loan amount that is less than the amount Approved: {train[train['Loan Amount'] < train['Funded Amount Investor']].shape[0]}\")\n",
    "print(f\"Count of Loan amount Approved that is less than the amount Funded: {train[train['Funded Amount Investor'] < train['Funded Amount']].shape[0]}\")"
   ]
  },
  {
   "cell_type": "markdown",
   "metadata": {},
   "source": [
    "- Thus here we can see a mis-match in the data. It is to be noted that in real-life, the \"Funded Amount\" should neither be greater than the \"Loan Amount\" applied for nor the approved Loan Amount (\"Funded Amount Investor\")."
   ]
  },
  {
   "cell_type": "markdown",
   "metadata": {},
   "source": [
    "##### Data Types of each Column"
   ]
  },
  {
   "cell_type": "code",
   "execution_count": 11,
   "metadata": {},
   "outputs": [
    {
     "name": "stdout",
     "output_type": "stream",
     "text": [
      "INTEGER DATA TYPE\n",
      "['ID', 'Loan Amount', 'Funded Amount', 'Term', 'Delinquency - two years', 'Inquires - six months', 'Open Account', 'Public Record', 'Revolving Balance', 'Total Accounts', 'Collection 12 months Medical', 'Last week Pay', 'Accounts Delinquent', 'Total Collection Amount', 'Total Current Balance', 'Total Revolving Credit Limit', 'Loan Status']\n",
      "-----------------------------------------------------\n",
      "\n",
      "FLOAT DATA TYPE\n",
      "['Funded Amount Investor', 'Interest Rate', 'Employment Duration', 'Debit to Income', 'Revolving Utilities', 'Total Received Interest', 'Total Received Late Fee', 'Recoveries', 'Collection Recovery Fee']\n",
      "-----------------------------------------------------\n",
      "\n",
      "OBJECT DATA TYPE\n",
      "['Batch Enrolled', 'Grade', 'Sub Grade', 'Home Ownership', 'Verification Status', 'Payment Plan', 'Loan Title', 'Initial List Status', 'Application Type']\n",
      "-----------------------------------------------------\n",
      "\n",
      "ANY OTHER DATA TYPE\n",
      "[]\n"
     ]
    }
   ],
   "source": [
    "int_columns = []\n",
    "float_columns = []\n",
    "object_columns = []\n",
    "other_columns = []\n",
    "\n",
    "for column in train.columns:\n",
    "    if train[column].dtype == 'object':\n",
    "        object_columns.append(column)\n",
    "    elif train[column].dtype == 'int64':\n",
    "        int_columns.append(column)\n",
    "    elif train[column].dtype == 'float64':\n",
    "        float_columns.append(column)\n",
    "    else:\n",
    "        other_columns.append(column)\n",
    "\n",
    "print(\"INTEGER DATA TYPE\")\n",
    "print(int_columns)\n",
    "print(\"-----------------------------------------------------\")\n",
    "print()\n",
    "print(\"FLOAT DATA TYPE\")\n",
    "print(float_columns)\n",
    "print(\"-----------------------------------------------------\")\n",
    "print()\n",
    "print(\"OBJECT DATA TYPE\")\n",
    "print(object_columns)\n",
    "print(\"-----------------------------------------------------\")\n",
    "print()\n",
    "print(\"ANY OTHER DATA TYPE\")\n",
    "print(other_columns)"
   ]
  },
  {
   "cell_type": "markdown",
   "metadata": {},
   "source": [
    "- Here for most Columns, we might have Outliers. But this is fine as it will differe from person to person.\n",
    "\n",
    "So I think that in this analysis we need not have to worry too much about the data. We just need to make the data clean enough to find the Loan Defaulters."
   ]
  },
  {
   "cell_type": "markdown",
   "metadata": {},
   "source": [
    "- **FEATURE 0:** Loan Status (Target Column)"
   ]
  },
  {
   "cell_type": "code",
   "execution_count": 12,
   "metadata": {},
   "outputs": [
    {
     "data": {
      "text/plain": [
       "dtype('int64')"
      ]
     },
     "execution_count": 12,
     "metadata": {},
     "output_type": "execute_result"
    }
   ],
   "source": [
    "train['Loan Status'].dtype"
   ]
  },
  {
   "cell_type": "code",
   "execution_count": 13,
   "metadata": {},
   "outputs": [
    {
     "name": "stdout",
     "output_type": "stream",
     "text": [
      "0    61222\n",
      "1     6241\n",
      "Name: Loan Status, dtype: int64\n"
     ]
    },
    {
     "data": {
      "image/png": "[encoded data removed]",
      "text/plain": [
       "<Figure size 1080x144 with 1 Axes>"
      ]
     },
     "metadata": {},
     "output_type": "display_data"
    }
   ],
   "source": [
    "plt.figure(figsize= (15,2))\n",
    "print(train['Loan Status'].value_counts())\n",
    "ax = sns.countplot(y= 'Loan Status', data= train)"
   ]
  },
  {
   "cell_type": "markdown",
   "metadata": {},
   "source": [
    "- Here we can see that there is a huge imbalance in the data. So we need to make sure that we have a good representation of the data. We will try different methods (*SMOTE*, *SMOTE_Tomek*, *Cross-Validation*) to overcome this."
   ]
  },
  {
   "cell_type": "markdown",
   "metadata": {},
   "source": [
    "- **FEATURE 1:** Loan Amount"
   ]
  },
  {
   "cell_type": "code",
   "execution_count": 14,
   "metadata": {},
   "outputs": [
    {
     "data": {
      "text/plain": [
       "dtype('int64')"
      ]
     },
     "execution_count": 14,
     "metadata": {},
     "output_type": "execute_result"
    }
   ],
   "source": [
    "train['Loan Amount'].dtype"
   ]
  },
  {
   "cell_type": "code",
   "execution_count": 15,
   "metadata": {},
   "outputs": [
    {
     "data": {
      "text/plain": [
       "count    67463.000000\n",
       "mean     16848.902776\n",
       "std       8367.865726\n",
       "min       1014.000000\n",
       "25%      10012.000000\n",
       "50%      16073.000000\n",
       "75%      22106.000000\n",
       "max      35000.000000\n",
       "Name: Loan Amount, dtype: float64"
      ]
     },
     "execution_count": 15,
     "metadata": {},
     "output_type": "execute_result"
    }
   ],
   "source": [
    "train['Loan Amount'].describe()"
   ]
  },
  {
   "cell_type": "markdown",
   "metadata": {},
   "source": [
    "> Here we can see that the Maximum Loan Amount applied for was for 35000 and the Minimum was for 1014. Also the Average Amount is around 16000.\n",
    "\n",
    "- The data does not seem to differ much from the Normal Distribution. This is because Mean ~= Median"
   ]
  },
  {
   "cell_type": "markdown",
   "metadata": {},
   "source": [
    "- **FEATURE 2:** Funded Amount"
   ]
  },
  {
   "cell_type": "code",
   "execution_count": 16,
   "metadata": {},
   "outputs": [
    {
     "data": {
      "text/plain": [
       "dtype('int64')"
      ]
     },
     "execution_count": 16,
     "metadata": {},
     "output_type": "execute_result"
    }
   ],
   "source": [
    "train['Funded Amount'].dtype"
   ]
  },
  {
   "cell_type": "code",
   "execution_count": 17,
   "metadata": {},
   "outputs": [
    {
     "data": {
      "text/plain": [
       "count    67463.000000\n",
       "mean     15770.599114\n",
       "std       8150.992662\n",
       "min       1014.000000\n",
       "25%       9266.500000\n",
       "50%      13042.000000\n",
       "75%      21793.000000\n",
       "max      34999.000000\n",
       "Name: Funded Amount, dtype: float64"
      ]
     },
     "execution_count": 17,
     "metadata": {},
     "output_type": "execute_result"
    }
   ],
   "source": [
    "train['Funded Amount'].describe()"
   ]
  },
  {
   "cell_type": "markdown",
   "metadata": {},
   "source": [
    "> The Maximum amount that was Funded was 34999 and the Minimum was 1014. Also the Average Amount Funded is around 15000."
   ]
  },
  {
   "cell_type": "code",
   "execution_count": 18,
   "metadata": {},
   "outputs": [
    {
     "data": {
      "image/png": "[encoded data removed]",
      "text/plain": [
       "<Figure size 720x288 with 1 Axes>"
      ]
     },
     "metadata": {},
     "output_type": "display_data"
    }
   ],
   "source": [
    "### Boxplot of Funded amount\n",
    "plt.figure(figsize= (10,4))\n",
    "ax = sns.boxplot(x= 'Funded Amount', data= train)"
   ]
  },
  {
   "cell_type": "markdown",
   "metadata": {},
   "source": [
    "> - From the above visualization, we can tell that the data is Right Skewed (Median < Mean).\n",
    "> - The mean of a Right-skewed Distribution is almost always greater than its median."
   ]
  },
  {
   "cell_type": "markdown",
   "metadata": {},
   "source": [
    "- **FEATURE 3:** Funded Amount Investor"
   ]
  },
  {
   "cell_type": "code",
   "execution_count": 19,
   "metadata": {},
   "outputs": [
    {
     "data": {
      "text/plain": [
       "dtype('float64')"
      ]
     },
     "execution_count": 19,
     "metadata": {},
     "output_type": "execute_result"
    }
   ],
   "source": [
    "train['Funded Amount Investor'].dtype"
   ]
  },
  {
   "cell_type": "code",
   "execution_count": 20,
   "metadata": {},
   "outputs": [
    {
     "data": {
      "image/png": "[encoded data removed]",
      "text/plain": [
       "<Figure size 504x288 with 1 Axes>"
      ]
     },
     "metadata": {},
     "output_type": "display_data"
    }
   ],
   "source": [
    "### Histogram Plot\n",
    "plt.figure(figsize= (7,4))\n",
    "ax = sns.histplot(train['Funded Amount Investor'], bins= 10, color= 'tab:orange')"
   ]
  },
  {
   "cell_type": "code",
   "execution_count": 21,
   "metadata": {},
   "outputs": [
    {
     "data": {
      "text/plain": [
       "count    67463.000000\n",
       "mean     14621.799323\n",
       "std       6785.345170\n",
       "min       1114.590204\n",
       "25%       9831.684984\n",
       "50%      12793.682170\n",
       "75%      17807.594120\n",
       "max      34999.746430\n",
       "Name: Funded Amount Investor, dtype: float64"
      ]
     },
     "execution_count": 21,
     "metadata": {},
     "output_type": "execute_result"
    }
   ],
   "source": [
    "train['Funded Amount Investor'].describe()"
   ]
  },
  {
   "cell_type": "markdown",
   "metadata": {},
   "source": [
    "> - From the above analysis, we can tell that the data is Right Skewed (Median < Mean)."
   ]
  },
  {
   "cell_type": "markdown",
   "metadata": {},
   "source": [
    "- **FEATURE 4:** Term"
   ]
  },
  {
   "cell_type": "code",
   "execution_count": 22,
   "metadata": {},
   "outputs": [
    {
     "data": {
      "text/plain": [
       "dtype('int64')"
      ]
     },
     "execution_count": 22,
     "metadata": {},
     "output_type": "execute_result"
    }
   ],
   "source": [
    "train['Term'].dtype"
   ]
  },
  {
   "cell_type": "code",
   "execution_count": 23,
   "metadata": {},
   "outputs": [
    {
     "data": {
      "text/plain": [
       "array([59, 36, 58], dtype=int64)"
      ]
     },
     "execution_count": 23,
     "metadata": {},
     "output_type": "execute_result"
    }
   ],
   "source": [
    "train['Term'].unique()"
   ]
  },
  {
   "cell_type": "markdown",
   "metadata": {},
   "source": [
    "- Here we can see that the Term period ranges from 36 months (3 years) to 59 months (4 years and 11 months)."
   ]
  },
  {
   "cell_type": "code",
   "execution_count": 24,
   "metadata": {},
   "outputs": [
    {
     "name": "stdout",
     "output_type": "stream",
     "text": [
      "59    43780\n",
      "58    22226\n",
      "36     1457\n",
      "Name: Term, dtype: int64\n"
     ]
    },
    {
     "data": {
      "image/png": "[encoded data removed]",
      "text/plain": [
       "<Figure size 1080x216 with 1 Axes>"
      ]
     },
     "metadata": {},
     "output_type": "display_data"
    }
   ],
   "source": [
    "plt.figure(figsize= (15,3))\n",
    "print(train['Term'].value_counts())\n",
    "ax = sns.countplot(y= 'Term', data= train)"
   ]
  },
  {
   "cell_type": "code",
   "execution_count": 25,
   "metadata": {},
   "outputs": [
    {
     "data": {
      "text/plain": [
       "Term  Loan Status\n",
       "36    0               1303\n",
       "      1                154\n",
       "58    0              20390\n",
       "      1               1836\n",
       "59    0              39529\n",
       "      1               4251\n",
       "Name: Loan Status, dtype: int64"
      ]
     },
     "execution_count": 25,
     "metadata": {},
     "output_type": "execute_result"
    }
   ],
   "source": [
    "loan_per_term = train.groupby(['Term', 'Loan Status'])['Loan Status'].count()\n",
    "loan_per_term"
   ]
  },
  {
   "cell_type": "markdown",
   "metadata": {},
   "source": [
    "> - We can see the Loan Defaulters are more in all Term Cases "
   ]
  },
  {
   "cell_type": "code",
   "execution_count": 26,
   "metadata": {},
   "outputs": [
    {
     "data": {
      "text/plain": [
       "Term  Loan Status\n",
       "36    0              16696.349962\n",
       "      1              15875.402597\n",
       "58    0              16841.602452\n",
       "      1              16922.073529\n",
       "59    0              16876.205571\n",
       "      1              16680.461303\n",
       "Name: Loan Amount, dtype: float64"
      ]
     },
     "execution_count": 26,
     "metadata": {},
     "output_type": "execute_result"
    }
   ],
   "source": [
    "avgloan_per_term = train.groupby(['Term', 'Loan Status'])['Loan Amount'].mean()\n",
    "avgloan_per_term"
   ]
  },
  {
   "cell_type": "markdown",
   "metadata": {},
   "source": [
    "> - Above we can see the Average Loans Applied for each Term and also by the Defaulter and Non-Defaulter class."
   ]
  },
  {
   "cell_type": "code",
   "execution_count": 27,
   "metadata": {},
   "outputs": [
    {
     "data": {
      "text/plain": [
       "array([59, 58, 36, 60], dtype=int64)"
      ]
     },
     "execution_count": 27,
     "metadata": {},
     "output_type": "execute_result"
    }
   ],
   "source": [
    "### Checking with Test Data\n",
    "test['Term'].unique()"
   ]
  },
  {
   "cell_type": "markdown",
   "metadata": {},
   "source": [
    "> - Here we can see a new value in our test data. This needs to be checked. Since this is a *integer* we will ignore this for now. If needed we can remove this column."
   ]
  },
  {
   "cell_type": "markdown",
   "metadata": {},
   "source": [
    "- **FEATURE 5:** Batch Enrolled"
   ]
  },
  {
   "cell_type": "code",
   "execution_count": 28,
   "metadata": {},
   "outputs": [
    {
     "data": {
      "text/plain": [
       "dtype('O')"
      ]
     },
     "execution_count": 28,
     "metadata": {},
     "output_type": "execute_result"
    }
   ],
   "source": [
    "train['Batch Enrolled'].dtype"
   ]
  },
  {
   "cell_type": "code",
   "execution_count": 29,
   "metadata": {},
   "outputs": [
    {
     "data": {
      "text/plain": [
       "41"
      ]
     },
     "execution_count": 29,
     "metadata": {},
     "output_type": "execute_result"
    }
   ],
   "source": [
    "train['Batch Enrolled'].nunique()"
   ]
  },
  {
   "cell_type": "code",
   "execution_count": 30,
   "metadata": {},
   "outputs": [
    {
     "data": {
      "text/plain": [
       "BAT3873588    3626\n",
       "BAT1586599    3142\n",
       "BAT1104812    2996\n",
       "BAT2252229    2557\n",
       "BAT2803411    2425\n",
       "Name: Batch Enrolled, dtype: int64"
      ]
     },
     "execution_count": 30,
     "metadata": {},
     "output_type": "execute_result"
    }
   ],
   "source": [
    "train['Batch Enrolled'].value_counts().sort_values(ascending= False)[:5]"
   ]
  },
  {
   "cell_type": "markdown",
   "metadata": {},
   "source": [
    "> - Most number of recepients are Enrolled in batch ***BAT3873588***. "
   ]
  },
  {
   "cell_type": "code",
   "execution_count": 31,
   "metadata": {},
   "outputs": [],
   "source": [
    "### Check if the Batches are same for both train and test\n",
    "\n",
    "for batch in train['Batch Enrolled'].unique():\n",
    "    if batch in test['Batch Enrolled'].unique():\n",
    "        pass\n",
    "    else:\n",
    "        print(f\"{batch} is not present in both train and test\")"
   ]
  },
  {
   "cell_type": "code",
   "execution_count": 32,
   "metadata": {},
   "outputs": [
    {
     "data": {
      "text/plain": [
       "Batch Enrolled  Loan Status\n",
       "BAT1104812      0              16791.526882\n",
       "                1              16372.167224\n",
       "BAT1135695      0              16346.305019\n",
       "                1              16220.756757\n",
       "BAT1184694      0              16704.781576\n",
       "                                   ...     \n",
       "BAT5811547      1              15550.358209\n",
       "BAT5849876      0              17087.705460\n",
       "                1              16077.513889\n",
       "BAT5924421      0              16776.733746\n",
       "                1              15593.151786\n",
       "Name: Loan Amount, Length: 82, dtype: float64"
      ]
     },
     "execution_count": 32,
     "metadata": {},
     "output_type": "execute_result"
    }
   ],
   "source": [
    "train.groupby(['Batch Enrolled', 'Loan Status'])['Loan Amount'].mean()"
   ]
  },
  {
   "cell_type": "markdown",
   "metadata": {},
   "source": [
    "> - We can see that the first and last batch are having the Average Loan Amount approx to 16000 for both the Defaulters  and Non-Defaulters."
   ]
  },
  {
   "cell_type": "markdown",
   "metadata": {},
   "source": [
    "- **FEATURE 6:** Interest Rate"
   ]
  },
  {
   "cell_type": "code",
   "execution_count": 33,
   "metadata": {},
   "outputs": [
    {
     "data": {
      "text/plain": [
       "dtype('float64')"
      ]
     },
     "execution_count": 33,
     "metadata": {},
     "output_type": "execute_result"
    }
   ],
   "source": [
    "train['Interest Rate'].dtype"
   ]
  },
  {
   "cell_type": "code",
   "execution_count": 34,
   "metadata": {},
   "outputs": [
    {
     "data": {
      "text/plain": [
       "count    67463.000000\n",
       "mean        11.846258\n",
       "std          3.718629\n",
       "min          5.320006\n",
       "25%          9.297147\n",
       "50%         11.377696\n",
       "75%         14.193533\n",
       "max         27.182348\n",
       "Name: Interest Rate, dtype: float64"
      ]
     },
     "execution_count": 34,
     "metadata": {},
     "output_type": "execute_result"
    }
   ],
   "source": [
    "train['Interest Rate'].describe()"
   ]
  },
  {
   "cell_type": "code",
   "execution_count": 35,
   "metadata": {},
   "outputs": [
    {
     "data": {
      "image/png": "[encoded data removed]",
      "text/plain": [
       "<Figure size 1080x288 with 2 Axes>"
      ]
     },
     "metadata": {},
     "output_type": "display_data"
    }
   ],
   "source": [
    "plt.figure(figsize= (15,4))\n",
    "\n",
    "plt.subplot(1,2,1)\n",
    "ax = sns.distplot(train['Interest Rate'], bins= 10, color= 'tab:orange')\n",
    "plt.subplot(1,2,2)\n",
    "ax = sns.boxplot(x= train['Interest Rate'])\n",
    "plt.show()"
   ]
  },
  {
   "cell_type": "markdown",
   "metadata": {},
   "source": [
    "> - Here we can see the outliers, but this is fine as the values will be different for each person."
   ]
  },
  {
   "cell_type": "markdown",
   "metadata": {},
   "source": [
    "- **FEATURE 7:** Grade"
   ]
  },
  {
   "cell_type": "code",
   "execution_count": 36,
   "metadata": {},
   "outputs": [
    {
     "data": {
      "text/plain": [
       "dtype('O')"
      ]
     },
     "execution_count": 36,
     "metadata": {},
     "output_type": "execute_result"
    }
   ],
   "source": [
    "train['Grade'].dtype"
   ]
  },
  {
   "cell_type": "code",
   "execution_count": 37,
   "metadata": {},
   "outputs": [
    {
     "data": {
      "text/plain": [
       "array(['B', 'C', 'F', 'A', 'G', 'E', 'D'], dtype=object)"
      ]
     },
     "execution_count": 37,
     "metadata": {},
     "output_type": "execute_result"
    }
   ],
   "source": [
    "train['Grade'].unique()"
   ]
  },
  {
   "cell_type": "code",
   "execution_count": 38,
   "metadata": {},
   "outputs": [
    {
     "data": {
      "image/png": "[encoded data removed]",
      "text/plain": [
       "<Figure size 1080x288 with 1 Axes>"
      ]
     },
     "metadata": {},
     "output_type": "display_data"
    }
   ],
   "source": [
    "plt.figure(figsize= (15,4))\n",
    "ax = sns.countplot(y= 'Grade', data= train, )"
   ]
  },
  {
   "cell_type": "code",
   "execution_count": 39,
   "metadata": {},
   "outputs": [
    {
     "data": {
      "text/plain": [
       "Grade  Loan Status\n",
       "A      0              10955\n",
       "       1               1100\n",
       "B      0              17107\n",
       "       1               1635\n",
       "C      0              17293\n",
       "       1               1792\n",
       "D      0               7463\n",
       "       1                796\n",
       "E      0               5828\n",
       "       1                618\n",
       "F      0               2013\n",
       "       1                233\n",
       "G      0                563\n",
       "       1                 67\n",
       "Name: Loan Status, dtype: int64"
      ]
     },
     "execution_count": 39,
     "metadata": {},
     "output_type": "execute_result"
    }
   ],
   "source": [
    "train.groupby(['Grade', 'Loan Status'])['Loan Status'].count()"
   ]
  },
  {
   "cell_type": "code",
   "execution_count": 40,
   "metadata": {},
   "outputs": [
    {
     "data": {
      "text/plain": [
       "Grade\n",
       "A    15858.974119\n",
       "B    15831.625920\n",
       "C    15617.068693\n",
       "D    15681.575009\n",
       "E    15841.287930\n",
       "F    16140.807213\n",
       "G    16039.020635\n",
       "Name: Funded Amount, dtype: float64"
      ]
     },
     "execution_count": 40,
     "metadata": {},
     "output_type": "execute_result"
    }
   ],
   "source": [
    "### Average Funded Amount for each Grade\n",
    "train.groupby(['Grade'])['Funded Amount'].mean()"
   ]
  },
  {
   "cell_type": "markdown",
   "metadata": {},
   "source": [
    "- **FEATURE 8:** Sub Grade"
   ]
  },
  {
   "cell_type": "code",
   "execution_count": 41,
   "metadata": {},
   "outputs": [
    {
     "data": {
      "text/plain": [
       "dtype('O')"
      ]
     },
     "execution_count": 41,
     "metadata": {},
     "output_type": "execute_result"
    }
   ],
   "source": [
    "train['Sub Grade'].dtype"
   ]
  },
  {
   "cell_type": "code",
   "execution_count": 42,
   "metadata": {},
   "outputs": [
    {
     "data": {
      "text/plain": [
       "Grade  Sub Grade  Loan Status\n",
       "A      A1         0              236\n",
       "                  1               24\n",
       "       A2         0              378\n",
       "                  1               40\n",
       "       A3         0              256\n",
       "                  1               31\n",
       "       A4         0              311\n",
       "                  1               35\n",
       "       A5         0              588\n",
       "                  1               62\n",
       "       B1         0              454\n",
       "                  1               55\n",
       "       B2         0              652\n",
       "                  1               63\n",
       "       B3         0              618\n",
       "Name: Loan Status, dtype: int64"
      ]
     },
     "execution_count": 42,
     "metadata": {},
     "output_type": "execute_result"
    }
   ],
   "source": [
    "train.groupby(['Grade', 'Sub Grade', 'Loan Status'])['Loan Status'].count()[:15]"
   ]
  },
  {
   "cell_type": "markdown",
   "metadata": {},
   "source": [
    "> - We will remove the Sub Grade column as it is not a useful feature. Also it is confusing as Representatives with grade A, have the Sub-Grade B1,b2, etc."
   ]
  },
  {
   "cell_type": "markdown",
   "metadata": {},
   "source": [
    "- **FEATURE 9:** Home Ownership"
   ]
  },
  {
   "cell_type": "code",
   "execution_count": 43,
   "metadata": {},
   "outputs": [
    {
     "data": {
      "text/plain": [
       "True"
      ]
     },
     "execution_count": 43,
     "metadata": {},
     "output_type": "execute_result"
    }
   ],
   "source": [
    "train['Home Ownership'].nunique() == test['Home Ownership'].nunique()"
   ]
  },
  {
   "cell_type": "code",
   "execution_count": 44,
   "metadata": {},
   "outputs": [
    {
     "name": "stdout",
     "output_type": "stream",
     "text": [
      "MORTGAGE    36351\n",
      "RENT        24150\n",
      "OWN          6962\n",
      "Name: Home Ownership, dtype: int64\n"
     ]
    },
    {
     "data": {
      "image/png": "[encoded data removed]",
      "text/plain": [
       "<Figure size 1080x216 with 1 Axes>"
      ]
     },
     "metadata": {},
     "output_type": "display_data"
    }
   ],
   "source": [
    "plt.figure(figsize= (15,3))\n",
    "print(train['Home Ownership'].value_counts())\n",
    "ax = sns.countplot(y= 'Home Ownership', data= train)"
   ]
  },
  {
   "cell_type": "markdown",
   "metadata": {},
   "source": [
    "> - We can see that most of the Representatives are the ones who have Mortgaged their house"
   ]
  },
  {
   "cell_type": "markdown",
   "metadata": {},
   "source": [
    "- **FEATURE 10:** Employment Duration"
   ]
  },
  {
   "cell_type": "markdown",
   "metadata": {},
   "source": [
    "This column will be removed from the model. This is because it is not a senseable feature."
   ]
  },
  {
   "cell_type": "markdown",
   "metadata": {},
   "source": [
    "- **FEATURE 11:** Verification Status"
   ]
  },
  {
   "cell_type": "code",
   "execution_count": 45,
   "metadata": {},
   "outputs": [
    {
     "data": {
      "text/plain": [
       "dtype('O')"
      ]
     },
     "execution_count": 45,
     "metadata": {},
     "output_type": "execute_result"
    }
   ],
   "source": [
    "train['Verification Status'].dtype"
   ]
  },
  {
   "cell_type": "code",
   "execution_count": 46,
   "metadata": {},
   "outputs": [
    {
     "data": {
      "text/plain": [
       "array(['Not Verified', 'Source Verified', 'Verified'], dtype=object)"
      ]
     },
     "execution_count": 46,
     "metadata": {},
     "output_type": "execute_result"
    }
   ],
   "source": [
    "train['Verification Status'].unique()"
   ]
  },
  {
   "cell_type": "code",
   "execution_count": 47,
   "metadata": {},
   "outputs": [
    {
     "name": "stdout",
     "output_type": "stream",
     "text": [
      "Source Verified    33036\n",
      "Verified           18078\n",
      "Not Verified       16349\n",
      "Name: Verification Status, dtype: int64\n"
     ]
    },
    {
     "data": {
      "image/png": "[encoded data removed]",
      "text/plain": [
       "<Figure size 1080x216 with 1 Axes>"
      ]
     },
     "metadata": {},
     "output_type": "display_data"
    }
   ],
   "source": [
    "plt.figure(figsize= (15,3))\n",
    "print(train['Verification Status'].value_counts())\n",
    "ax = sns.countplot(y= 'Verification Status', data= train)"
   ]
  },
  {
   "cell_type": "code",
   "execution_count": 48,
   "metadata": {},
   "outputs": [
    {
     "data": {
      "text/plain": [
       "Verification Status\n",
       "Not Verified       16084.453728\n",
       "Source Verified    15683.185495\n",
       "Verified           15646.502821\n",
       "Name: Funded Amount, dtype: float64"
      ]
     },
     "execution_count": 48,
     "metadata": {},
     "output_type": "execute_result"
    }
   ],
   "source": [
    "train.groupby(['Verification Status'])['Funded Amount'].mean()"
   ]
  },
  {
   "cell_type": "markdown",
   "metadata": {},
   "source": [
    "> - We can conclude that though there are more number of Representatives who are Source Verified or Verified, the Not Verified Representatives are the ones who has the highest Average Funded Amount."
   ]
  },
  {
   "cell_type": "markdown",
   "metadata": {},
   "source": [
    "- **FEATURE 12:** Payment Plan"
   ]
  },
  {
   "cell_type": "code",
   "execution_count": 49,
   "metadata": {},
   "outputs": [
    {
     "data": {
      "text/plain": [
       "dtype('O')"
      ]
     },
     "execution_count": 49,
     "metadata": {},
     "output_type": "execute_result"
    }
   ],
   "source": [
    "train['Payment Plan'].dtype"
   ]
  },
  {
   "cell_type": "code",
   "execution_count": 50,
   "metadata": {},
   "outputs": [
    {
     "data": {
      "text/plain": [
       "(array(['n'], dtype=object), array(['n'], dtype=object))"
      ]
     },
     "execution_count": 50,
     "metadata": {},
     "output_type": "execute_result"
    }
   ],
   "source": [
    "train['Payment Plan'].unique(), test['Payment Plan'].unique()"
   ]
  },
  {
   "cell_type": "markdown",
   "metadata": {},
   "source": [
    "> - We can drop this column as there is only one value in the column."
   ]
  },
  {
   "cell_type": "markdown",
   "metadata": {},
   "source": [
    "- **FEATURE 13:** Loan Title"
   ]
  },
  {
   "cell_type": "code",
   "execution_count": 51,
   "metadata": {},
   "outputs": [
    {
     "data": {
      "text/plain": [
       "dtype('O')"
      ]
     },
     "execution_count": 51,
     "metadata": {},
     "output_type": "execute_result"
    }
   ],
   "source": [
    "train['Loan Title'].dtype"
   ]
  },
  {
   "cell_type": "code",
   "execution_count": 52,
   "metadata": {},
   "outputs": [
    {
     "data": {
      "text/plain": [
       "True"
      ]
     },
     "execution_count": 52,
     "metadata": {},
     "output_type": "execute_result"
    }
   ],
   "source": [
    "train['Loan Title'].nunique() == test['Loan Title'].nunique()"
   ]
  },
  {
   "cell_type": "code",
   "execution_count": 53,
   "metadata": {},
   "outputs": [
    {
     "name": "stdout",
     "output_type": "stream",
     "text": [
      "['Debt Consolidation' 'Debt consolidation' 'Credit card refinancing'\n",
      " 'Home improvement' 'Credit Consolidation' 'Green loan' 'Other'\n",
      " 'Moving and relocation' 'Credit Cards' 'Medical expenses'\n",
      " 'DEBT CONSOLIDATION' 'Home Improvement' 'Refinance'\n",
      " 'credit card consolidation' 'Lending Club' 'Debt Consolidation Loan'\n",
      " 'Major purchase' 'Vacation' 'Business' 'Credit card payoff'\n",
      " 'Credit Card Consolidation' 'credit card' 'Credit Card Refi'\n",
      " 'Personal Loan' 'CC Refi' 'consolidate' 'Medical' 'Loan 1'\n",
      " 'Consolidation' 'Card Consolidation' 'Car financing' 'debt'\n",
      " 'home improvement' 'debt consolidation' 'Home buying' 'Freedom'\n",
      " 'Consolidate' 'Consolidated' 'get out of debt' 'consolidation loan'\n",
      " 'Dept consolidation' 'Personal loan' 'Personal' 'Debt' 'cards' 'Cards'\n",
      " 'Bathroom' 'refi' 'Credit Card Loan' 'Credit Card Debt' 'House'\n",
      " 'Debt Consolidation 2013' 'debt loan' 'CC Refinance' 'Consolidation Loan'\n",
      " 'Home' 'CC consolidation' 'Credit Card' 'Credit Card Refinance'\n",
      " 'Credit Loan' 'payoff' 'Bill Consolidation' 'credit card refinance'\n",
      " 'Credit Card consolidation' 'Credit Card Paydown' 'Credit card pay off'\n",
      " 'vacation' 'Credit card refinance' 'Get Debt Free' 'MYLOAN'\n",
      " 'credit pay off' 'Payoff' 'consolidation' 'My Loan' 'Loan' 'Bill Payoff'\n",
      " 'CC-Refinance' 'Debt Reduction' 'Medical loan' 'Wedding Loan' 'Credit'\n",
      " 'CONSOLIDATE' 'personal' 'pay off bills' 'CC Consolidation'\n",
      " 'Refinance Loan' 'Credit Card Payoff' 'Debt Payoff' 'Car Loan' 'Pay Off'\n",
      " 'Debt Loan' 'CONSOLIDATION' 'Pool' 'Credit payoff'\n",
      " 'Credit Card Refinance Loan' 'CC Loan' 'Debt Free'\n",
      " 'debt consolidation loan' 'conso' 'Home Improvement Loan'\n",
      " 'Loan Consolidation' 'Debt payoff' 'Lending loan' 'relief' 'CC' 'loan1'\n",
      " 'Getting Ahead' 'Home loan' 'bills']\n"
     ]
    }
   ],
   "source": [
    "print(train['Loan Title'].unique())"
   ]
  },
  {
   "cell_type": "code",
   "execution_count": 54,
   "metadata": {},
   "outputs": [
    {
     "data": {
      "text/html": [
       "<div>\n",
       "<style scoped>\n",
       "    .dataframe tbody tr th:only-of-type {\n",
       "        vertical-align: middle;\n",
       "    }\n",
       "\n",
       "    .dataframe tbody tr th {\n",
       "        vertical-align: top;\n",
       "    }\n",
       "\n",
       "    .dataframe thead th {\n",
       "        text-align: right;\n",
       "    }\n",
       "</style>\n",
       "<table border=\"1\" class=\"dataframe\">\n",
       "  <thead>\n",
       "    <tr style=\"text-align: right;\">\n",
       "      <th></th>\n",
       "      <th>ID</th>\n",
       "      <th>Total Revolving Credit Limit</th>\n",
       "    </tr>\n",
       "    <tr>\n",
       "      <th>Loan Title</th>\n",
       "      <th></th>\n",
       "      <th></th>\n",
       "    </tr>\n",
       "  </thead>\n",
       "  <tbody>\n",
       "    <tr>\n",
       "      <th>Credit card refinancing</th>\n",
       "      <td>30728</td>\n",
       "      <td>22961.999186</td>\n",
       "    </tr>\n",
       "    <tr>\n",
       "      <th>Debt consolidation</th>\n",
       "      <td>24841</td>\n",
       "      <td>23044.495672</td>\n",
       "    </tr>\n",
       "    <tr>\n",
       "      <th>Debt Consolidation</th>\n",
       "      <td>3544</td>\n",
       "      <td>23640.187641</td>\n",
       "    </tr>\n",
       "    <tr>\n",
       "      <th>Other</th>\n",
       "      <td>2455</td>\n",
       "      <td>22635.801629</td>\n",
       "    </tr>\n",
       "    <tr>\n",
       "      <th>Home improvement</th>\n",
       "      <td>2211</td>\n",
       "      <td>23504.935323</td>\n",
       "    </tr>\n",
       "    <tr>\n",
       "      <th>Major purchase</th>\n",
       "      <td>487</td>\n",
       "      <td>24355.248460</td>\n",
       "    </tr>\n",
       "    <tr>\n",
       "      <th>Medical expenses</th>\n",
       "      <td>237</td>\n",
       "      <td>25021.375527</td>\n",
       "    </tr>\n",
       "    <tr>\n",
       "      <th>Business</th>\n",
       "      <td>183</td>\n",
       "      <td>26833.071038</td>\n",
       "    </tr>\n",
       "    <tr>\n",
       "      <th>Moving and relocation</th>\n",
       "      <td>157</td>\n",
       "      <td>22107.388535</td>\n",
       "    </tr>\n",
       "    <tr>\n",
       "      <th>Car financing</th>\n",
       "      <td>135</td>\n",
       "      <td>23621.007407</td>\n",
       "    </tr>\n",
       "  </tbody>\n",
       "</table>\n",
       "</div>"
      ],
      "text/plain": [
       "                            ID  Total Revolving Credit Limit\n",
       "Loan Title                                                  \n",
       "Credit card refinancing  30728                  22961.999186\n",
       "Debt consolidation       24841                  23044.495672\n",
       "Debt Consolidation        3544                  23640.187641\n",
       "Other                     2455                  22635.801629\n",
       "Home improvement          2211                  23504.935323\n",
       "Major purchase             487                  24355.248460\n",
       "Medical expenses           237                  25021.375527\n",
       "Business                   183                  26833.071038\n",
       "Moving and relocation      157                  22107.388535\n",
       "Car financing              135                  23621.007407"
      ]
     },
     "execution_count": 54,
     "metadata": {},
     "output_type": "execute_result"
    }
   ],
   "source": [
    "train.groupby(train['Loan Title'])[['ID', 'Total Revolving Credit Limit']].agg({'ID': 'count', 'Total Revolving Credit Limit': 'mean'}).sort_values(by= 'ID', ascending= False)[:10]"
   ]
  },
  {
   "cell_type": "markdown",
   "metadata": {},
   "source": [
    "> - We will not be using the colum as there is no useful information in it."
   ]
  },
  {
   "cell_type": "markdown",
   "metadata": {},
   "source": [
    "- **FEATURE 14:** Debit to Income"
   ]
  },
  {
   "cell_type": "code",
   "execution_count": 55,
   "metadata": {},
   "outputs": [
    {
     "data": {
      "text/plain": [
       "dtype('float64')"
      ]
     },
     "execution_count": 55,
     "metadata": {},
     "output_type": "execute_result"
    }
   ],
   "source": [
    "train['Debit to Income'].dtype"
   ]
  },
  {
   "cell_type": "code",
   "execution_count": 56,
   "metadata": {},
   "outputs": [
    {
     "data": {
      "text/plain": [
       "count    67463.000000\n",
       "mean        23.299241\n",
       "std          8.451824\n",
       "min          0.675299\n",
       "25%         16.756416\n",
       "50%         22.656658\n",
       "75%         30.048400\n",
       "max         39.629862\n",
       "Name: Debit to Income, dtype: float64"
      ]
     },
     "execution_count": 56,
     "metadata": {},
     "output_type": "execute_result"
    }
   ],
   "source": [
    "train['Debit to Income'].describe()"
   ]
  },
  {
   "cell_type": "code",
   "execution_count": 57,
   "metadata": {},
   "outputs": [
    {
     "data": {
      "image/png": "[encoded data removed]",
      "text/plain": [
       "<Figure size 1080x288 with 2 Axes>"
      ]
     },
     "metadata": {},
     "output_type": "display_data"
    }
   ],
   "source": [
    "plt.figure(figsize= (15,4))\n",
    "\n",
    "plt.subplot(1,2,1)\n",
    "ax = sns.distplot(train['Debit to Income'], bins= 6, color= 'tab:blue')\n",
    "plt.subplot(1,2,2)\n",
    "ax = sns.boxplot(x= train['Debit to Income'])\n",
    "plt.show()"
   ]
  },
  {
   "cell_type": "markdown",
   "metadata": {},
   "source": [
    "- **FEATURE 15:** Delinquency - two years"
   ]
  },
  {
   "cell_type": "code",
   "execution_count": 58,
   "metadata": {},
   "outputs": [
    {
     "data": {
      "text/plain": [
       "dtype('int64')"
      ]
     },
     "execution_count": 58,
     "metadata": {},
     "output_type": "execute_result"
    }
   ],
   "source": [
    "train['Delinquency - two years'].dtype"
   ]
  },
  {
   "cell_type": "code",
   "execution_count": 59,
   "metadata": {},
   "outputs": [
    {
     "data": {
      "text/plain": [
       "False"
      ]
     },
     "execution_count": 59,
     "metadata": {},
     "output_type": "execute_result"
    }
   ],
   "source": [
    "train['Delinquency - two years'].nunique() == test['Delinquency - two years'].nunique()"
   ]
  },
  {
   "cell_type": "code",
   "execution_count": 60,
   "metadata": {},
   "outputs": [
    {
     "data": {
      "text/plain": [
       "(array([1, 0, 3, 6, 2, 7, 5, 4, 8], dtype=int64),\n",
       " array([1, 0, 6, 2, 7, 3, 5, 8, 4, 9], dtype=int64))"
      ]
     },
     "execution_count": 60,
     "metadata": {},
     "output_type": "execute_result"
    }
   ],
   "source": [
    "train['Delinquency - two years'].unique(), test['Delinquency - two years'].unique()"
   ]
  },
  {
   "cell_type": "code",
   "execution_count": 61,
   "metadata": {},
   "outputs": [],
   "source": [
    "train['Delinquency - two years'] = pd.cut(train['Delinquency - two years'], bins= 2, labels= ['<5', '>5'])\n",
    "test['Delinquency - two years'] = pd.cut(test['Delinquency - two years'], bins= 2, labels= ['<5', '>5'])"
   ]
  },
  {
   "cell_type": "code",
   "execution_count": 62,
   "metadata": {},
   "outputs": [
    {
     "name": "stdout",
     "output_type": "stream",
     "text": [
      "<5    66902\n",
      ">5      561\n",
      "Name: Delinquency - two years, dtype: int64\n"
     ]
    },
    {
     "data": {
      "image/png": "[encoded data removed]",
      "text/plain": [
       "<Figure size 1080x144 with 1 Axes>"
      ]
     },
     "metadata": {},
     "output_type": "display_data"
    }
   ],
   "source": [
    "plt.figure(figsize= (15,2))\n",
    "print(train['Delinquency - two years'].value_counts())\n",
    "ax = sns.countplot(y= 'Delinquency - two years', data= train)"
   ]
  },
  {
   "cell_type": "markdown",
   "metadata": {},
   "source": [
    "> - A majority of our Respondents has had less than 5, 30+ days Delinquency in past 2 years."
   ]
  },
  {
   "cell_type": "markdown",
   "metadata": {},
   "source": [
    "- **FEATURE 16:** Inquires - six months"
   ]
  },
  {
   "cell_type": "code",
   "execution_count": 63,
   "metadata": {},
   "outputs": [
    {
     "data": {
      "text/plain": [
       "dtype('int64')"
      ]
     },
     "execution_count": 63,
     "metadata": {},
     "output_type": "execute_result"
    }
   ],
   "source": [
    "train['Inquires - six months'].dtype"
   ]
  },
  {
   "cell_type": "code",
   "execution_count": 64,
   "metadata": {},
   "outputs": [
    {
     "data": {
      "text/plain": [
       "True"
      ]
     },
     "execution_count": 64,
     "metadata": {},
     "output_type": "execute_result"
    }
   ],
   "source": [
    "train['Inquires - six months'].nunique() == test['Inquires - six months'].nunique()"
   ]
  },
  {
   "cell_type": "code",
   "execution_count": 65,
   "metadata": {},
   "outputs": [
    {
     "data": {
      "text/plain": [
       "array([0, 3, 2, 1, 4, 5], dtype=int64)"
      ]
     },
     "execution_count": 65,
     "metadata": {},
     "output_type": "execute_result"
    }
   ],
   "source": [
    "train['Inquires - six months'].unique()"
   ]
  },
  {
   "cell_type": "markdown",
   "metadata": {},
   "source": [
    "> - It is always good that we enquire. It means that the customer is asking for more information. And they are interested."
   ]
  },
  {
   "cell_type": "markdown",
   "metadata": {},
   "source": [
    "- **FEATURE 17:** Open Account"
   ]
  },
  {
   "cell_type": "code",
   "execution_count": 66,
   "metadata": {},
   "outputs": [
    {
     "data": {
      "text/plain": [
       "dtype('int64')"
      ]
     },
     "execution_count": 66,
     "metadata": {},
     "output_type": "execute_result"
    }
   ],
   "source": [
    "train['Open Account'].dtype"
   ]
  },
  {
   "cell_type": "code",
   "execution_count": 67,
   "metadata": {},
   "outputs": [
    {
     "data": {
      "text/plain": [
       "True"
      ]
     },
     "execution_count": 67,
     "metadata": {},
     "output_type": "execute_result"
    }
   ],
   "source": [
    "train['Open Account'].nunique() == test['Open Account'].nunique()"
   ]
  },
  {
   "cell_type": "code",
   "execution_count": 68,
   "metadata": {},
   "outputs": [
    {
     "data": {
      "text/plain": [
       "array([13, 12, 14,  7, 16, 11,  6, 17, 10,  8,  9, 26, 31, 28, 19, 15, 33,\n",
       "       30, 21, 18, 27, 20, 25, 24, 23, 22, 34, 32, 29,  5,  4, 36, 35,  3,\n",
       "       37,  2], dtype=int64)"
      ]
     },
     "execution_count": 68,
     "metadata": {},
     "output_type": "execute_result"
    }
   ],
   "source": [
    "train['Open Account'].unique()"
   ]
  },
  {
   "cell_type": "markdown",
   "metadata": {},
   "source": [
    "- **FEATURE 18:** Public Record "
   ]
  },
  {
   "cell_type": "code",
   "execution_count": 69,
   "metadata": {},
   "outputs": [
    {
     "data": {
      "text/plain": [
       "dtype('int64')"
      ]
     },
     "execution_count": 69,
     "metadata": {},
     "output_type": "execute_result"
    }
   ],
   "source": [
    "train['Public Record'].dtype"
   ]
  },
  {
   "cell_type": "code",
   "execution_count": 70,
   "metadata": {},
   "outputs": [
    {
     "data": {
      "text/plain": [
       "True"
      ]
     },
     "execution_count": 70,
     "metadata": {},
     "output_type": "execute_result"
    }
   ],
   "source": [
    "train['Public Record'].nunique() == test['Public Record'].nunique()"
   ]
  },
  {
   "cell_type": "code",
   "execution_count": 71,
   "metadata": {},
   "outputs": [
    {
     "data": {
      "text/plain": [
       "array([0, 1, 2, 4, 3], dtype=int64)"
      ]
     },
     "execution_count": 71,
     "metadata": {},
     "output_type": "execute_result"
    }
   ],
   "source": [
    "train['Public Record'].unique()"
   ]
  },
  {
   "cell_type": "markdown",
   "metadata": {},
   "source": [
    "- **FEATURE 19:** Revolving Balance"
   ]
  },
  {
   "cell_type": "code",
   "execution_count": 72,
   "metadata": {},
   "outputs": [
    {
     "data": {
      "text/plain": [
       "dtype('int64')"
      ]
     },
     "execution_count": 72,
     "metadata": {},
     "output_type": "execute_result"
    }
   ],
   "source": [
    "train['Revolving Balance'].dtype"
   ]
  },
  {
   "cell_type": "code",
   "execution_count": 73,
   "metadata": {},
   "outputs": [
    {
     "data": {
      "text/plain": [
       "count     67463.000000\n",
       "mean       7699.342425\n",
       "std        7836.148190\n",
       "min           0.000000\n",
       "25%        2557.000000\n",
       "50%        5516.000000\n",
       "75%       10184.500000\n",
       "max      116933.000000\n",
       "Name: Revolving Balance, dtype: float64"
      ]
     },
     "execution_count": 73,
     "metadata": {},
     "output_type": "execute_result"
    }
   ],
   "source": [
    "train['Revolving Balance'].describe()"
   ]
  },
  {
   "cell_type": "code",
   "execution_count": 74,
   "metadata": {},
   "outputs": [
    {
     "data": {
      "image/png": "[encoded data removed]",
      "text/plain": [
       "<Figure size 1080x288 with 2 Axes>"
      ]
     },
     "metadata": {},
     "output_type": "display_data"
    }
   ],
   "source": [
    "plt.figure(figsize= (15,4))\n",
    "\n",
    "plt.subplot(1,2,1)\n",
    "ax = sns.distplot(train['Revolving Balance'], bins= 10, color= 'tab:green')\n",
    "plt.subplot(1,2,2)\n",
    "ax = sns.boxplot(x= train['Revolving Balance'])\n",
    "plt.show()"
   ]
  },
  {
   "cell_type": "markdown",
   "metadata": {},
   "source": [
    "- **FEATURE 20:** Revolving Utilities"
   ]
  },
  {
   "cell_type": "code",
   "execution_count": 75,
   "metadata": {},
   "outputs": [
    {
     "data": {
      "text/plain": [
       "dtype('float64')"
      ]
     },
     "execution_count": 75,
     "metadata": {},
     "output_type": "execute_result"
    }
   ],
   "source": [
    "train['Revolving Utilities'].dtype"
   ]
  },
  {
   "cell_type": "code",
   "execution_count": 76,
   "metadata": {},
   "outputs": [
    {
     "data": {
      "text/plain": [
       "count    67463.000000\n",
       "mean        52.889443\n",
       "std         22.539450\n",
       "min          0.005172\n",
       "25%         38.658825\n",
       "50%         54.082334\n",
       "75%         69.177117\n",
       "max        100.880050\n",
       "Name: Revolving Utilities, dtype: float64"
      ]
     },
     "execution_count": 76,
     "metadata": {},
     "output_type": "execute_result"
    }
   ],
   "source": [
    "train['Revolving Utilities'].describe()"
   ]
  },
  {
   "cell_type": "code",
   "execution_count": 77,
   "metadata": {},
   "outputs": [
    {
     "data": {
      "image/png": "[encoded data removed]",
      "text/plain": [
       "<Figure size 1080x288 with 2 Axes>"
      ]
     },
     "metadata": {},
     "output_type": "display_data"
    }
   ],
   "source": [
    "plt.figure(figsize= (15,4))\n",
    "\n",
    "plt.subplot(1,2,1)\n",
    "ax = sns.histplot(train['Revolving Utilities'], bins= 10, color= 'tab:grey')\n",
    "plt.subplot(1,2,2)\n",
    "ax = sns.boxplot(x= train['Revolving Utilities'])\n",
    "plt.show()"
   ]
  },
  {
   "cell_type": "markdown",
   "metadata": {},
   "source": [
    "- **FEATURE 21:** Total Accounts"
   ]
  },
  {
   "cell_type": "code",
   "execution_count": 78,
   "metadata": {},
   "outputs": [
    {
     "data": {
      "text/plain": [
       "dtype('int64')"
      ]
     },
     "execution_count": 78,
     "metadata": {},
     "output_type": "execute_result"
    }
   ],
   "source": [
    "train['Total Accounts'].dtype"
   ]
  },
  {
   "cell_type": "code",
   "execution_count": 79,
   "metadata": {},
   "outputs": [
    {
     "data": {
      "text/plain": [
       "False"
      ]
     },
     "execution_count": 79,
     "metadata": {},
     "output_type": "execute_result"
    }
   ],
   "source": [
    "train['Total Accounts'].nunique() == test['Total Accounts'].nunique()"
   ]
  },
  {
   "cell_type": "code",
   "execution_count": 80,
   "metadata": {},
   "outputs": [
    {
     "data": {
      "text/plain": [
       "count    67463.000000\n",
       "mean        18.627929\n",
       "std          8.319246\n",
       "min          4.000000\n",
       "25%         13.000000\n",
       "50%         18.000000\n",
       "75%         23.000000\n",
       "max         72.000000\n",
       "Name: Total Accounts, dtype: float64"
      ]
     },
     "execution_count": 80,
     "metadata": {},
     "output_type": "execute_result"
    }
   ],
   "source": [
    "train['Total Accounts'].describe()"
   ]
  },
  {
   "cell_type": "code",
   "execution_count": 81,
   "metadata": {},
   "outputs": [],
   "source": [
    "train['Total Accounts'] = pd.cut(train['Total Accounts'], bins= 4, labels= ['<20', '20-40', '40-60', '>60'])\n",
    "test['Total Accounts'] = pd.cut(test['Total Accounts'], bins= 4, labels= ['<20', '20-40', '40-60', '>60'])"
   ]
  },
  {
   "cell_type": "markdown",
   "metadata": {},
   "source": [
    "- **FEATURE 22:** Initial List Status"
   ]
  },
  {
   "cell_type": "code",
   "execution_count": 82,
   "metadata": {},
   "outputs": [
    {
     "data": {
      "text/plain": [
       "dtype('O')"
      ]
     },
     "execution_count": 82,
     "metadata": {},
     "output_type": "execute_result"
    }
   ],
   "source": [
    "train['Initial List Status'].dtype"
   ]
  },
  {
   "cell_type": "code",
   "execution_count": 83,
   "metadata": {},
   "outputs": [
    {
     "data": {
      "text/plain": [
       "array(['w', 'f'], dtype=object)"
      ]
     },
     "execution_count": 83,
     "metadata": {},
     "output_type": "execute_result"
    }
   ],
   "source": [
    "train['Initial List Status'].unique()"
   ]
  },
  {
   "cell_type": "code",
   "execution_count": 84,
   "metadata": {},
   "outputs": [
    {
     "name": "stdout",
     "output_type": "stream",
     "text": [
      "w    36299\n",
      "f    31164\n",
      "Name: Initial List Status, dtype: int64\n"
     ]
    },
    {
     "data": {
      "image/png": "[encoded data removed]",
      "text/plain": [
       "<Figure size 1080x144 with 1 Axes>"
      ]
     },
     "metadata": {},
     "output_type": "display_data"
    }
   ],
   "source": [
    "plt.figure(figsize= (15,2))\n",
    "print(train['Initial List Status'].value_counts())\n",
    "ax = sns.countplot(y= 'Initial List Status', data= train)"
   ]
  },
  {
   "cell_type": "code",
   "execution_count": 85,
   "metadata": {},
   "outputs": [
    {
     "data": {
      "text/plain": [
       "Initial List Status  Loan Status\n",
       "f                    0              16838.357869\n",
       "                     1              16742.021566\n",
       "w                    0              16880.000423\n",
       "                     1              16722.010226\n",
       "Name: Loan Amount, dtype: float64"
      ]
     },
     "execution_count": 85,
     "metadata": {},
     "output_type": "execute_result"
    }
   ],
   "source": [
    "train.groupby(['Initial List Status', 'Loan Status'])['Loan Amount'].mean()"
   ]
  },
  {
   "cell_type": "markdown",
   "metadata": {},
   "source": [
    "> - Here we can understand that Respondents with Initial List Status as \"Waiting\" have Defaulters who have applied for a loan of approximately 17000 on average."
   ]
  },
  {
   "cell_type": "markdown",
   "metadata": {},
   "source": [
    "- **FEATURE 23:** Total Received Interest"
   ]
  },
  {
   "cell_type": "code",
   "execution_count": 86,
   "metadata": {},
   "outputs": [
    {
     "data": {
      "text/plain": [
       "dtype('float64')"
      ]
     },
     "execution_count": 86,
     "metadata": {},
     "output_type": "execute_result"
    }
   ],
   "source": [
    "train['Total Received Interest'].dtype"
   ]
  },
  {
   "cell_type": "code",
   "execution_count": 87,
   "metadata": {},
   "outputs": [
    {
     "data": {
      "text/plain": [
       "count    67463.000000\n",
       "mean      2068.992542\n",
       "std       2221.918745\n",
       "min          4.736746\n",
       "25%        570.903814\n",
       "50%       1330.842771\n",
       "75%       2656.956837\n",
       "max      14301.368310\n",
       "Name: Total Received Interest, dtype: float64"
      ]
     },
     "execution_count": 87,
     "metadata": {},
     "output_type": "execute_result"
    }
   ],
   "source": [
    "train['Total Received Interest'].describe()"
   ]
  },
  {
   "cell_type": "code",
   "execution_count": 88,
   "metadata": {},
   "outputs": [
    {
     "data": {
      "image/png": "[encoded data removed]",
      "text/plain": [
       "<Figure size 1080x288 with 2 Axes>"
      ]
     },
     "metadata": {},
     "output_type": "display_data"
    }
   ],
   "source": [
    "plt.figure(figsize= (15,4))\n",
    "\n",
    "plt.subplot(1,2,1)\n",
    "ax = sns.distplot(train['Total Received Interest'], bins= 10, color= 'tab:grey')\n",
    "plt.subplot(1,2,2)\n",
    "ax = sns.boxplot(x= train['Total Received Interest'])\n",
    "plt.show()"
   ]
  },
  {
   "cell_type": "markdown",
   "metadata": {},
   "source": [
    "- **FEATURE 24:** Total Received Late Fee"
   ]
  },
  {
   "cell_type": "code",
   "execution_count": 89,
   "metadata": {},
   "outputs": [
    {
     "data": {
      "text/plain": [
       "count    67463.000000\n",
       "mean         1.143969\n",
       "std          5.244365\n",
       "min          0.000003\n",
       "25%          0.021114\n",
       "50%          0.043398\n",
       "75%          0.071884\n",
       "max         42.618882\n",
       "Name: Total Received Late Fee, dtype: float64"
      ]
     },
     "execution_count": 89,
     "metadata": {},
     "output_type": "execute_result"
    }
   ],
   "source": [
    "train['Total Received Late Fee'].describe()"
   ]
  },
  {
   "cell_type": "markdown",
   "metadata": {},
   "source": [
    "> - The values kind of seems not to be exact. But it is not a huge issue."
   ]
  },
  {
   "cell_type": "markdown",
   "metadata": {},
   "source": [
    "- **FEATURE 25:** Recoveries"
   ]
  },
  {
   "cell_type": "code",
   "execution_count": 90,
   "metadata": {},
   "outputs": [
    {
     "data": {
      "text/plain": [
       "dtype('float64')"
      ]
     },
     "execution_count": 90,
     "metadata": {},
     "output_type": "execute_result"
    }
   ],
   "source": [
    "train['Recoveries'].dtype"
   ]
  },
  {
   "cell_type": "code",
   "execution_count": 91,
   "metadata": {},
   "outputs": [
    {
     "data": {
      "text/plain": [
       "count    67463.000000\n",
       "mean        59.691578\n",
       "std        357.026346\n",
       "min          0.000036\n",
       "25%          1.629818\n",
       "50%          3.344524\n",
       "75%          5.453727\n",
       "max       4354.467419\n",
       "Name: Recoveries, dtype: float64"
      ]
     },
     "execution_count": 91,
     "metadata": {},
     "output_type": "execute_result"
    }
   ],
   "source": [
    "train['Recoveries'].describe()"
   ]
  },
  {
   "cell_type": "markdown",
   "metadata": {},
   "source": [
    "- **FEATURE 26:** Collection Recovery Fee"
   ]
  },
  {
   "cell_type": "code",
   "execution_count": 92,
   "metadata": {},
   "outputs": [
    {
     "data": {
      "text/plain": [
       "count    67463.000000\n",
       "mean         1.125141\n",
       "std          3.489885\n",
       "min          0.000036\n",
       "25%          0.476259\n",
       "50%          0.780141\n",
       "75%          1.070566\n",
       "max        166.833000\n",
       "Name: Collection Recovery Fee, dtype: float64"
      ]
     },
     "execution_count": 92,
     "metadata": {},
     "output_type": "execute_result"
    }
   ],
   "source": [
    "train['Collection Recovery Fee'].describe()"
   ]
  },
  {
   "cell_type": "markdown",
   "metadata": {},
   "source": [
    "- **FEATURE 27:** Collection 12 months Medical"
   ]
  },
  {
   "cell_type": "code",
   "execution_count": 93,
   "metadata": {},
   "outputs": [
    {
     "data": {
      "text/plain": [
       "count    67463.000000\n",
       "mean         0.021301\n",
       "std          0.144385\n",
       "min          0.000000\n",
       "25%          0.000000\n",
       "50%          0.000000\n",
       "75%          0.000000\n",
       "max          1.000000\n",
       "Name: Collection 12 months Medical, dtype: float64"
      ]
     },
     "execution_count": 93,
     "metadata": {},
     "output_type": "execute_result"
    }
   ],
   "source": [
    "train['Collection 12 months Medical'].describe()"
   ]
  },
  {
   "cell_type": "code",
   "execution_count": 94,
   "metadata": {},
   "outputs": [
    {
     "data": {
      "text/plain": [
       "True"
      ]
     },
     "execution_count": 94,
     "metadata": {},
     "output_type": "execute_result"
    }
   ],
   "source": [
    "train['Collection 12 months Medical'].nunique() == test['Collection 12 months Medical'].nunique()"
   ]
  },
  {
   "cell_type": "code",
   "execution_count": 95,
   "metadata": {},
   "outputs": [
    {
     "data": {
      "text/plain": [
       "array([0, 1], dtype=int64)"
      ]
     },
     "execution_count": 95,
     "metadata": {},
     "output_type": "execute_result"
    }
   ],
   "source": [
    "train['Collection 12 months Medical'].unique()"
   ]
  },
  {
   "cell_type": "code",
   "execution_count": 96,
   "metadata": {},
   "outputs": [
    {
     "name": "stdout",
     "output_type": "stream",
     "text": [
      "0    66026\n",
      "1     1437\n",
      "Name: Collection 12 months Medical, dtype: int64\n"
     ]
    },
    {
     "data": {
      "image/png": "[encoded data removed]",
      "text/plain": [
       "<Figure size 1080x144 with 1 Axes>"
      ]
     },
     "metadata": {},
     "output_type": "display_data"
    }
   ],
   "source": [
    "plt.figure(figsize= (15,2))\n",
    "print(train['Collection 12 months Medical'].value_counts())\n",
    "ax = sns.countplot(y= 'Collection 12 months Medical', data= train)"
   ]
  },
  {
   "cell_type": "markdown",
   "metadata": {},
   "source": [
    "- **FEATURE 28:** Application Type"
   ]
  },
  {
   "cell_type": "code",
   "execution_count": 97,
   "metadata": {},
   "outputs": [
    {
     "data": {
      "text/plain": [
       "array(['INDIVIDUAL', 'JOINT'], dtype=object)"
      ]
     },
     "execution_count": 97,
     "metadata": {},
     "output_type": "execute_result"
    }
   ],
   "source": [
    "train['Application Type'].unique()"
   ]
  },
  {
   "cell_type": "code",
   "execution_count": 98,
   "metadata": {},
   "outputs": [
    {
     "data": {
      "text/plain": [
       "True"
      ]
     },
     "execution_count": 98,
     "metadata": {},
     "output_type": "execute_result"
    }
   ],
   "source": [
    "train['Application Type'].nunique() == test['Application Type'].nunique()"
   ]
  },
  {
   "cell_type": "code",
   "execution_count": 99,
   "metadata": {},
   "outputs": [
    {
     "name": "stdout",
     "output_type": "stream",
     "text": [
      "INDIVIDUAL    67340\n",
      "JOINT           123\n",
      "Name: Application Type, dtype: int64\n"
     ]
    },
    {
     "data": {
      "image/png": "[encoded data removed]",
      "text/plain": [
       "<Figure size 1080x144 with 1 Axes>"
      ]
     },
     "metadata": {},
     "output_type": "display_data"
    }
   ],
   "source": [
    "plt.figure(figsize= (15,2))\n",
    "print(train['Application Type'].value_counts())\n",
    "ax = sns.countplot(y= 'Application Type', data= train)"
   ]
  },
  {
   "cell_type": "code",
   "execution_count": 100,
   "metadata": {},
   "outputs": [
    {
     "data": {
      "text/plain": [
       "Application Type  Loan Status\n",
       "INDIVIDUAL        0              0.907484\n",
       "                  1              0.092516\n",
       "JOINT             0              0.910569\n",
       "                  1              0.089431\n",
       "Name: Loan Status, dtype: float64"
      ]
     },
     "execution_count": 100,
     "metadata": {},
     "output_type": "execute_result"
    }
   ],
   "source": [
    "train.groupby(['Application Type', 'Loan Status'])['Loan Status'].count()/train.groupby(['Application Type'])['Loan Status'].count()"
   ]
  },
  {
   "cell_type": "code",
   "execution_count": 101,
   "metadata": {},
   "outputs": [
    {
     "data": {
      "text/plain": [
       "Application Type\n",
       "INDIVIDUAL    16847.561524\n",
       "JOINT         17583.211382\n",
       "Name: Loan Amount, dtype: float64"
      ]
     },
     "execution_count": 101,
     "metadata": {},
     "output_type": "execute_result"
    }
   ],
   "source": [
    "train.groupby(['Application Type'])['Loan Amount'].mean()"
   ]
  },
  {
   "cell_type": "markdown",
   "metadata": {},
   "source": [
    "> - Hence Joint Application Type Respresentatives have the highest Average Loan Amount also they are the group that has the highest percentage of Defaulters."
   ]
  },
  {
   "cell_type": "markdown",
   "metadata": {},
   "source": [
    "- **FEATURE 29:** Last week Pay"
   ]
  },
  {
   "cell_type": "code",
   "execution_count": 102,
   "metadata": {},
   "outputs": [
    {
     "data": {
      "text/plain": [
       "dtype('int64')"
      ]
     },
     "execution_count": 102,
     "metadata": {},
     "output_type": "execute_result"
    }
   ],
   "source": [
    "train['Last week Pay'].dtype"
   ]
  },
  {
   "cell_type": "code",
   "execution_count": 103,
   "metadata": {},
   "outputs": [
    {
     "data": {
      "text/plain": [
       "True"
      ]
     },
     "execution_count": 103,
     "metadata": {},
     "output_type": "execute_result"
    }
   ],
   "source": [
    "train['Last week Pay'].nunique() == test['Last week Pay'].nunique()"
   ]
  },
  {
   "cell_type": "code",
   "execution_count": 104,
   "metadata": {},
   "outputs": [
    {
     "data": {
      "text/plain": [
       "count    67463.000000\n",
       "mean        71.163260\n",
       "std         43.315845\n",
       "min          0.000000\n",
       "25%         35.000000\n",
       "50%         68.000000\n",
       "75%        105.000000\n",
       "max        161.000000\n",
       "Name: Last week Pay, dtype: float64"
      ]
     },
     "execution_count": 104,
     "metadata": {},
     "output_type": "execute_result"
    }
   ],
   "source": [
    "train['Last week Pay'].describe()"
   ]
  },
  {
   "cell_type": "markdown",
   "metadata": {},
   "source": [
    "- **FEATURE 30:** Accounts Delinquent"
   ]
  },
  {
   "cell_type": "code",
   "execution_count": 105,
   "metadata": {},
   "outputs": [
    {
     "data": {
      "text/plain": [
       "False"
      ]
     },
     "execution_count": 105,
     "metadata": {},
     "output_type": "execute_result"
    }
   ],
   "source": [
    "train['Accounts Delinquent'].nunique() == test['Accounts Delinquent'].nunique()"
   ]
  },
  {
   "cell_type": "code",
   "execution_count": 106,
   "metadata": {},
   "outputs": [
    {
     "data": {
      "text/plain": [
       "array([0], dtype=int64)"
      ]
     },
     "execution_count": 106,
     "metadata": {},
     "output_type": "execute_result"
    }
   ],
   "source": [
    "train['Accounts Delinquent'].unique()"
   ]
  },
  {
   "cell_type": "markdown",
   "metadata": {},
   "source": [
    "> - We will drop this column as well"
   ]
  },
  {
   "cell_type": "markdown",
   "metadata": {},
   "source": [
    "- **FEATURE 31:** Total Collection Amount"
   ]
  },
  {
   "cell_type": "code",
   "execution_count": 107,
   "metadata": {},
   "outputs": [
    {
     "data": {
      "text/plain": [
       "dtype('int64')"
      ]
     },
     "execution_count": 107,
     "metadata": {},
     "output_type": "execute_result"
    }
   ],
   "source": [
    "train['Total Collection Amount'].dtype"
   ]
  },
  {
   "cell_type": "code",
   "execution_count": 108,
   "metadata": {},
   "outputs": [
    {
     "data": {
      "text/plain": [
       "count    67463.000000\n",
       "mean       146.467990\n",
       "std        744.382233\n",
       "min          1.000000\n",
       "25%         24.000000\n",
       "50%         36.000000\n",
       "75%         46.000000\n",
       "max      16421.000000\n",
       "Name: Total Collection Amount, dtype: float64"
      ]
     },
     "execution_count": 108,
     "metadata": {},
     "output_type": "execute_result"
    }
   ],
   "source": [
    "train['Total Collection Amount'].describe()"
   ]
  },
  {
   "cell_type": "markdown",
   "metadata": {},
   "source": [
    "- **FEATURE 32:** Total Current Balance"
   ]
  },
  {
   "cell_type": "code",
   "execution_count": 109,
   "metadata": {},
   "outputs": [
    {
     "data": {
      "text/plain": [
       "dtype('int64')"
      ]
     },
     "execution_count": 109,
     "metadata": {},
     "output_type": "execute_result"
    }
   ],
   "source": [
    "train['Total Current Balance'].dtype"
   ]
  },
  {
   "cell_type": "code",
   "execution_count": 110,
   "metadata": {},
   "outputs": [
    {
     "data": {
      "text/plain": [
       "count    6.746300e+04\n",
       "mean     1.595739e+05\n",
       "std      1.390332e+05\n",
       "min      6.170000e+02\n",
       "25%      5.037900e+04\n",
       "50%      1.183690e+05\n",
       "75%      2.283750e+05\n",
       "max      1.177412e+06\n",
       "Name: Total Current Balance, dtype: float64"
      ]
     },
     "execution_count": 110,
     "metadata": {},
     "output_type": "execute_result"
    }
   ],
   "source": [
    "train['Total Current Balance'].describe()"
   ]
  },
  {
   "cell_type": "markdown",
   "metadata": {},
   "source": [
    "- **FEATURE 33:** Total Revolving Credit Limit"
   ]
  },
  {
   "cell_type": "code",
   "execution_count": 111,
   "metadata": {},
   "outputs": [
    {
     "data": {
      "text/plain": [
       "count     67463.000000\n",
       "mean      23123.005544\n",
       "std       20916.699999\n",
       "min        1000.000000\n",
       "25%        8155.500000\n",
       "50%       16733.000000\n",
       "75%       32146.500000\n",
       "max      201169.000000\n",
       "Name: Total Revolving Credit Limit, dtype: float64"
      ]
     },
     "execution_count": 111,
     "metadata": {},
     "output_type": "execute_result"
    }
   ],
   "source": [
    "train['Total Revolving Credit Limit'].describe()"
   ]
  },
  {
   "cell_type": "markdown",
   "metadata": {},
   "source": [
    "##### Remove Unnecessary Columns"
   ]
  },
  {
   "cell_type": "code",
   "execution_count": 112,
   "metadata": {},
   "outputs": [],
   "source": [
    "train.drop(columns= ['ID', 'Term', 'Batch Enrolled', 'Employment Duration', 'Sub Grade', 'Payment Plan', 'Loan Title', 'Accounts Delinquent'], inplace= True)\n",
    "test.drop(columns= ['ID', 'Term', 'Batch Enrolled', 'Employment Duration', 'Sub Grade', 'Payment Plan', 'Loan Title', 'Accounts Delinquent'], inplace= True)"
   ]
  },
  {
   "cell_type": "code",
   "execution_count": 113,
   "metadata": {},
   "outputs": [
    {
     "data": {
      "text/html": [
       "<div>\n",
       "<style scoped>\n",
       "    .dataframe tbody tr th:only-of-type {\n",
       "        vertical-align: middle;\n",
       "    }\n",
       "\n",
       "    .dataframe tbody tr th {\n",
       "        vertical-align: top;\n",
       "    }\n",
       "\n",
       "    .dataframe thead th {\n",
       "        text-align: right;\n",
       "    }\n",
       "</style>\n",
       "<table border=\"1\" class=\"dataframe\">\n",
       "  <thead>\n",
       "    <tr style=\"text-align: right;\">\n",
       "      <th></th>\n",
       "      <th>Loan Amount</th>\n",
       "      <th>Funded Amount</th>\n",
       "      <th>Funded Amount Investor</th>\n",
       "      <th>Interest Rate</th>\n",
       "      <th>Grade</th>\n",
       "      <th>Home Ownership</th>\n",
       "      <th>Verification Status</th>\n",
       "      <th>Debit to Income</th>\n",
       "      <th>Delinquency - two years</th>\n",
       "      <th>Inquires - six months</th>\n",
       "      <th>Open Account</th>\n",
       "      <th>Public Record</th>\n",
       "      <th>Revolving Balance</th>\n",
       "      <th>Revolving Utilities</th>\n",
       "      <th>Total Accounts</th>\n",
       "      <th>Initial List Status</th>\n",
       "      <th>Total Received Interest</th>\n",
       "      <th>Total Received Late Fee</th>\n",
       "      <th>Recoveries</th>\n",
       "      <th>Collection Recovery Fee</th>\n",
       "      <th>Collection 12 months Medical</th>\n",
       "      <th>Application Type</th>\n",
       "      <th>Last week Pay</th>\n",
       "      <th>Total Collection Amount</th>\n",
       "      <th>Total Current Balance</th>\n",
       "      <th>Total Revolving Credit Limit</th>\n",
       "      <th>Loan Status</th>\n",
       "    </tr>\n",
       "  </thead>\n",
       "  <tbody>\n",
       "    <tr>\n",
       "      <th>24868</th>\n",
       "      <td>16454</td>\n",
       "      <td>10742</td>\n",
       "      <td>2983.888167</td>\n",
       "      <td>6.676572</td>\n",
       "      <td>E</td>\n",
       "      <td>RENT</td>\n",
       "      <td>Not Verified</td>\n",
       "      <td>5.032503</td>\n",
       "      <td>&lt;5</td>\n",
       "      <td>1</td>\n",
       "      <td>12</td>\n",
       "      <td>0</td>\n",
       "      <td>10017</td>\n",
       "      <td>32.912732</td>\n",
       "      <td>&lt;20</td>\n",
       "      <td>f</td>\n",
       "      <td>10943.698100</td>\n",
       "      <td>0.048221</td>\n",
       "      <td>1.841438</td>\n",
       "      <td>0.018914</td>\n",
       "      <td>0</td>\n",
       "      <td>INDIVIDUAL</td>\n",
       "      <td>99</td>\n",
       "      <td>29</td>\n",
       "      <td>175491</td>\n",
       "      <td>20641</td>\n",
       "      <td>0</td>\n",
       "    </tr>\n",
       "    <tr>\n",
       "      <th>50393</th>\n",
       "      <td>20811</td>\n",
       "      <td>11170</td>\n",
       "      <td>9063.603385</td>\n",
       "      <td>7.558574</td>\n",
       "      <td>B</td>\n",
       "      <td>OWN</td>\n",
       "      <td>Not Verified</td>\n",
       "      <td>35.520560</td>\n",
       "      <td>&lt;5</td>\n",
       "      <td>0</td>\n",
       "      <td>13</td>\n",
       "      <td>0</td>\n",
       "      <td>10089</td>\n",
       "      <td>99.730644</td>\n",
       "      <td>&lt;20</td>\n",
       "      <td>w</td>\n",
       "      <td>1550.937796</td>\n",
       "      <td>0.047971</td>\n",
       "      <td>3.374312</td>\n",
       "      <td>0.514606</td>\n",
       "      <td>0</td>\n",
       "      <td>INDIVIDUAL</td>\n",
       "      <td>160</td>\n",
       "      <td>36</td>\n",
       "      <td>80208</td>\n",
       "      <td>3206</td>\n",
       "      <td>0</td>\n",
       "    </tr>\n",
       "    <tr>\n",
       "      <th>37921</th>\n",
       "      <td>14459</td>\n",
       "      <td>23544</td>\n",
       "      <td>9555.311869</td>\n",
       "      <td>8.804363</td>\n",
       "      <td>C</td>\n",
       "      <td>MORTGAGE</td>\n",
       "      <td>Verified</td>\n",
       "      <td>27.304388</td>\n",
       "      <td>&lt;5</td>\n",
       "      <td>0</td>\n",
       "      <td>10</td>\n",
       "      <td>0</td>\n",
       "      <td>718</td>\n",
       "      <td>19.341641</td>\n",
       "      <td>&lt;20</td>\n",
       "      <td>w</td>\n",
       "      <td>306.040006</td>\n",
       "      <td>0.034742</td>\n",
       "      <td>6.830157</td>\n",
       "      <td>0.961732</td>\n",
       "      <td>0</td>\n",
       "      <td>INDIVIDUAL</td>\n",
       "      <td>24</td>\n",
       "      <td>21</td>\n",
       "      <td>14273</td>\n",
       "      <td>8340</td>\n",
       "      <td>0</td>\n",
       "    </tr>\n",
       "    <tr>\n",
       "      <th>39502</th>\n",
       "      <td>8239</td>\n",
       "      <td>15469</td>\n",
       "      <td>28833.244400</td>\n",
       "      <td>16.203839</td>\n",
       "      <td>B</td>\n",
       "      <td>MORTGAGE</td>\n",
       "      <td>Not Verified</td>\n",
       "      <td>22.002880</td>\n",
       "      <td>&lt;5</td>\n",
       "      <td>1</td>\n",
       "      <td>10</td>\n",
       "      <td>0</td>\n",
       "      <td>3658</td>\n",
       "      <td>52.012639</td>\n",
       "      <td>&lt;20</td>\n",
       "      <td>w</td>\n",
       "      <td>1549.617936</td>\n",
       "      <td>0.032448</td>\n",
       "      <td>0.677651</td>\n",
       "      <td>0.036945</td>\n",
       "      <td>0</td>\n",
       "      <td>INDIVIDUAL</td>\n",
       "      <td>88</td>\n",
       "      <td>3</td>\n",
       "      <td>198328</td>\n",
       "      <td>2760</td>\n",
       "      <td>0</td>\n",
       "    </tr>\n",
       "    <tr>\n",
       "      <th>54240</th>\n",
       "      <td>8342</td>\n",
       "      <td>7257</td>\n",
       "      <td>22430.319070</td>\n",
       "      <td>9.550028</td>\n",
       "      <td>B</td>\n",
       "      <td>RENT</td>\n",
       "      <td>Verified</td>\n",
       "      <td>30.358766</td>\n",
       "      <td>&lt;5</td>\n",
       "      <td>0</td>\n",
       "      <td>10</td>\n",
       "      <td>0</td>\n",
       "      <td>7978</td>\n",
       "      <td>56.005267</td>\n",
       "      <td>20-40</td>\n",
       "      <td>w</td>\n",
       "      <td>1148.190764</td>\n",
       "      <td>0.041758</td>\n",
       "      <td>2.377883</td>\n",
       "      <td>0.470326</td>\n",
       "      <td>0</td>\n",
       "      <td>INDIVIDUAL</td>\n",
       "      <td>53</td>\n",
       "      <td>14</td>\n",
       "      <td>127913</td>\n",
       "      <td>23009</td>\n",
       "      <td>0</td>\n",
       "    </tr>\n",
       "  </tbody>\n",
       "</table>\n",
       "</div>"
      ],
      "text/plain": [
       "       Loan Amount  Funded Amount  Funded Amount Investor  Interest Rate  \\\n",
       "24868        16454          10742             2983.888167       6.676572   \n",
       "50393        20811          11170             9063.603385       7.558574   \n",
       "37921        14459          23544             9555.311869       8.804363   \n",
       "39502         8239          15469            28833.244400      16.203839   \n",
       "54240         8342           7257            22430.319070       9.550028   \n",
       "\n",
       "      Grade Home Ownership Verification Status  Debit to Income  \\\n",
       "24868     E           RENT        Not Verified         5.032503   \n",
       "50393     B            OWN        Not Verified        35.520560   \n",
       "37921     C       MORTGAGE            Verified        27.304388   \n",
       "39502     B       MORTGAGE        Not Verified        22.002880   \n",
       "54240     B           RENT            Verified        30.358766   \n",
       "\n",
       "      Delinquency - two years  Inquires - six months  Open Account  \\\n",
       "24868                      <5                      1            12   \n",
       "50393                      <5                      0            13   \n",
       "37921                      <5                      0            10   \n",
       "39502                      <5                      1            10   \n",
       "54240                      <5                      0            10   \n",
       "\n",
       "       Public Record  Revolving Balance  Revolving Utilities Total Accounts  \\\n",
       "24868              0              10017            32.912732            <20   \n",
       "50393              0              10089            99.730644            <20   \n",
       "37921              0                718            19.341641            <20   \n",
       "39502              0               3658            52.012639            <20   \n",
       "54240              0               7978            56.005267          20-40   \n",
       "\n",
       "      Initial List Status  Total Received Interest  Total Received Late Fee  \\\n",
       "24868                   f             10943.698100                 0.048221   \n",
       "50393                   w              1550.937796                 0.047971   \n",
       "37921                   w               306.040006                 0.034742   \n",
       "39502                   w              1549.617936                 0.032448   \n",
       "54240                   w              1148.190764                 0.041758   \n",
       "\n",
       "       Recoveries  Collection Recovery Fee  Collection 12 months Medical  \\\n",
       "24868    1.841438                 0.018914                             0   \n",
       "50393    3.374312                 0.514606                             0   \n",
       "37921    6.830157                 0.961732                             0   \n",
       "39502    0.677651                 0.036945                             0   \n",
       "54240    2.377883                 0.470326                             0   \n",
       "\n",
       "      Application Type  Last week Pay  Total Collection Amount  \\\n",
       "24868       INDIVIDUAL             99                       29   \n",
       "50393       INDIVIDUAL            160                       36   \n",
       "37921       INDIVIDUAL             24                       21   \n",
       "39502       INDIVIDUAL             88                        3   \n",
       "54240       INDIVIDUAL             53                       14   \n",
       "\n",
       "       Total Current Balance  Total Revolving Credit Limit  Loan Status  \n",
       "24868                 175491                         20641            0  \n",
       "50393                  80208                          3206            0  \n",
       "37921                  14273                          8340            0  \n",
       "39502                 198328                          2760            0  \n",
       "54240                 127913                         23009            0  "
      ]
     },
     "execution_count": 113,
     "metadata": {},
     "output_type": "execute_result"
    }
   ],
   "source": [
    "train.sample(5)"
   ]
  },
  {
   "cell_type": "code",
   "execution_count": 114,
   "metadata": {},
   "outputs": [
    {
     "data": {
      "text/plain": [
       "((67463, 27), (28913, 27))"
      ]
     },
     "execution_count": 114,
     "metadata": {},
     "output_type": "execute_result"
    }
   ],
   "source": [
    "train.shape, test.shape"
   ]
  },
  {
   "cell_type": "markdown",
   "metadata": {},
   "source": [
    "#### Feature Encoding\n",
    "We will ignore Feature Scaling as we are going to work with Random Forest and possibly Boosting Trees Algorithm."
   ]
  },
  {
   "cell_type": "code",
   "execution_count": 115,
   "metadata": {},
   "outputs": [],
   "source": [
    "#### Converting Categorical Column to Object: https://stackoverflow.com/questions/68884301/typeerror-data-type-category-not-understood-pandas-dataframe\n",
    "\n",
    "for column in train.columns:\n",
    "    if pd.api.types.is_categorical_dtype(train[column]):\n",
    "        train[column] = train[column].astype('object')\n",
    "\n",
    "for column in test.columns:\n",
    "    if pd.api.types.is_categorical_dtype(test[column]):\n",
    "        test[column] = test[column].astype('object')"
   ]
  },
  {
   "cell_type": "code",
   "execution_count": 116,
   "metadata": {},
   "outputs": [
    {
     "data": {
      "text/plain": [
       "['Grade',\n",
       " 'Home Ownership',\n",
       " 'Verification Status',\n",
       " 'Delinquency - two years',\n",
       " 'Total Accounts',\n",
       " 'Initial List Status',\n",
       " 'Application Type']"
      ]
     },
     "execution_count": 116,
     "metadata": {},
     "output_type": "execute_result"
    }
   ],
   "source": [
    "categorical_columns = [feature for feature in train.columns if train[feature].dtype == 'object']\n",
    "categorical_columns"
   ]
  },
  {
   "cell_type": "code",
   "execution_count": 117,
   "metadata": {},
   "outputs": [],
   "source": [
    "loan_train = train.copy()\n",
    "loan_test = test.copy()"
   ]
  },
  {
   "cell_type": "markdown",
   "metadata": {},
   "source": [
    "##### 1. Ordinal Encoding"
   ]
  },
  {
   "cell_type": "code",
   "execution_count": 118,
   "metadata": {},
   "outputs": [],
   "source": [
    "from sklearn.preprocessing import OrdinalEncoder"
   ]
  },
  {
   "cell_type": "code",
   "execution_count": 119,
   "metadata": {},
   "outputs": [],
   "source": [
    "encoder1 = OrdinalEncoder()\n",
    "\n",
    "loan_train['Grade'] = encoder1.fit_transform(loan_train['Grade'].values.reshape(-1,1))\n",
    "loan_test['Grade'] = encoder1.transform(loan_test['Grade'].values.reshape(-1,1))\n",
    "\n",
    "loan_train['Delinquency - two years'] = encoder1.fit_transform(loan_train['Delinquency - two years'].values.reshape(-1,1))\n",
    "loan_test['Delinquency - two years'] = encoder1.transform(loan_test['Delinquency - two years'].values.reshape(-1,1))\n",
    "\n",
    "loan_train['Total Accounts'] = loan_train['Total Accounts'].replace(['<20', '20-40', '40-60', '>60'], [0,1,2,3])\n",
    "loan_test['Total Accounts'] = loan_test['Total Accounts'].replace(['<20', '20-40', '40-60', '>60'], [0,1,2,3])"
   ]
  },
  {
   "cell_type": "code",
   "execution_count": 120,
   "metadata": {},
   "outputs": [],
   "source": [
    "loan_train['Grade'] = loan_train['Grade'].astype(int)\n",
    "loan_train['Delinquency - two years'] = loan_train['Delinquency - two years'].astype(int)"
   ]
  },
  {
   "cell_type": "code",
   "execution_count": 121,
   "metadata": {},
   "outputs": [],
   "source": [
    "loan_test['Grade'] = loan_test['Grade'].astype(int)\n",
    "loan_test['Delinquency - two years'] = loan_test['Delinquency - two years'].astype(int)"
   ]
  },
  {
   "cell_type": "markdown",
   "metadata": {},
   "source": [
    "##### 2. Mean Encoding"
   ]
  },
  {
   "cell_type": "code",
   "execution_count": 122,
   "metadata": {},
   "outputs": [
    {
     "data": {
      "text/plain": [
       "['Home Ownership',\n",
       " 'Verification Status',\n",
       " 'Initial List Status',\n",
       " 'Application Type']"
      ]
     },
     "execution_count": 122,
     "metadata": {},
     "output_type": "execute_result"
    }
   ],
   "source": [
    "[feature for feature in loan_train.columns if loan_train[feature].dtype == 'object']"
   ]
  },
  {
   "cell_type": "code",
   "execution_count": 123,
   "metadata": {},
   "outputs": [
    {
     "data": {
      "text/plain": [
       "Home Ownership  Ownership_enc\n",
       "MORTGAGE        0.088663         36351\n",
       "RENT            0.095694         24150\n",
       "OWN             0.101551          6962\n",
       "dtype: int64"
      ]
     },
     "execution_count": 123,
     "metadata": {},
     "output_type": "execute_result"
    }
   ],
   "source": [
    "encod_type = loan_train.groupby('Home Ownership')['Loan Status'].mean()\n",
    "loan_train.loc[:, 'Ownership_enc'] = loan_train['Home Ownership'].map(encod_type)\n",
    "loan_test.loc[:, 'Ownership_enc'] = loan_test['Home Ownership'].map(encod_type)\n",
    "loan_train[['Home Ownership','Ownership_enc']].value_counts()"
   ]
  },
  {
   "cell_type": "code",
   "execution_count": 124,
   "metadata": {},
   "outputs": [
    {
     "data": {
      "text/plain": [
       "Verification Status  Verification_enc\n",
       "Source Verified      0.093383            33036\n",
       "Verified             0.091271            18078\n",
       "Not Verified         0.092116            16349\n",
       "dtype: int64"
      ]
     },
     "execution_count": 124,
     "metadata": {},
     "output_type": "execute_result"
    }
   ],
   "source": [
    "encod_type = loan_train.groupby('Verification Status')['Loan Status'].mean()\n",
    "loan_train.loc[:, 'Verification_enc'] = loan_train['Verification Status'].map(encod_type)\n",
    "loan_test.loc[:, 'Verification_enc'] = loan_test['Verification Status'].map(encod_type)\n",
    "loan_train[['Verification Status','Verification_enc']].value_counts()"
   ]
  },
  {
   "cell_type": "code",
   "execution_count": 125,
   "metadata": {},
   "outputs": [
    {
     "data": {
      "text/plain": [
       "Initial List Status  Initial_enc\n",
       "w                    0.088901       36299\n",
       "f                    0.096714       31164\n",
       "dtype: int64"
      ]
     },
     "execution_count": 125,
     "metadata": {},
     "output_type": "execute_result"
    }
   ],
   "source": [
    "encod_type = loan_train.groupby('Initial List Status')['Loan Status'].mean()\n",
    "loan_train.loc[:, 'Initial_enc'] = loan_train['Initial List Status'].map(encod_type)\n",
    "loan_test.loc[:, 'Initial_enc'] = loan_test['Initial List Status'].map(encod_type)\n",
    "loan_train[['Initial List Status','Initial_enc']].value_counts()"
   ]
  },
  {
   "cell_type": "code",
   "execution_count": 126,
   "metadata": {},
   "outputs": [
    {
     "data": {
      "text/plain": [
       "Application Type  Application_enc\n",
       "INDIVIDUAL        0.092516           67340\n",
       "JOINT             0.089431             123\n",
       "dtype: int64"
      ]
     },
     "execution_count": 126,
     "metadata": {},
     "output_type": "execute_result"
    }
   ],
   "source": [
    "encod_type = loan_train.groupby('Application Type')['Loan Status'].mean()\n",
    "loan_train.loc[:, 'Application_enc'] = loan_train['Application Type'].map(encod_type)\n",
    "loan_test.loc[:, 'Application_enc'] = loan_test['Application Type'].map(encod_type)\n",
    "loan_train[['Application Type','Application_enc']].value_counts()"
   ]
  },
  {
   "cell_type": "code",
   "execution_count": 127,
   "metadata": {},
   "outputs": [],
   "source": [
    "loan_train.drop(columns= ['Home Ownership', 'Verification Status', 'Initial List Status', 'Application Type'], inplace= True)\n",
    "loan_test.drop(columns= ['Home Ownership', 'Verification Status', 'Initial List Status', 'Application Type'], inplace= True)"
   ]
  },
  {
   "cell_type": "code",
   "execution_count": 128,
   "metadata": {},
   "outputs": [
    {
     "data": {
      "text/html": [
       "<div>\n",
       "<style scoped>\n",
       "    .dataframe tbody tr th:only-of-type {\n",
       "        vertical-align: middle;\n",
       "    }\n",
       "\n",
       "    .dataframe tbody tr th {\n",
       "        vertical-align: top;\n",
       "    }\n",
       "\n",
       "    .dataframe thead th {\n",
       "        text-align: right;\n",
       "    }\n",
       "</style>\n",
       "<table border=\"1\" class=\"dataframe\">\n",
       "  <thead>\n",
       "    <tr style=\"text-align: right;\">\n",
       "      <th></th>\n",
       "      <th>Loan Amount</th>\n",
       "      <th>Funded Amount</th>\n",
       "      <th>Funded Amount Investor</th>\n",
       "      <th>Interest Rate</th>\n",
       "      <th>Grade</th>\n",
       "      <th>Debit to Income</th>\n",
       "      <th>Delinquency - two years</th>\n",
       "      <th>Inquires - six months</th>\n",
       "      <th>Open Account</th>\n",
       "      <th>Public Record</th>\n",
       "      <th>Revolving Balance</th>\n",
       "      <th>Revolving Utilities</th>\n",
       "      <th>Total Accounts</th>\n",
       "      <th>Total Received Interest</th>\n",
       "      <th>Total Received Late Fee</th>\n",
       "      <th>Recoveries</th>\n",
       "      <th>Collection Recovery Fee</th>\n",
       "      <th>Collection 12 months Medical</th>\n",
       "      <th>Last week Pay</th>\n",
       "      <th>Total Collection Amount</th>\n",
       "      <th>Total Current Balance</th>\n",
       "      <th>Total Revolving Credit Limit</th>\n",
       "      <th>Loan Status</th>\n",
       "      <th>Ownership_enc</th>\n",
       "      <th>Verification_enc</th>\n",
       "      <th>Initial_enc</th>\n",
       "      <th>Application_enc</th>\n",
       "    </tr>\n",
       "  </thead>\n",
       "  <tbody>\n",
       "    <tr>\n",
       "      <th>0</th>\n",
       "      <td>10000</td>\n",
       "      <td>32236</td>\n",
       "      <td>12329.36286</td>\n",
       "      <td>11.135007</td>\n",
       "      <td>1</td>\n",
       "      <td>16.284758</td>\n",
       "      <td>0</td>\n",
       "      <td>0</td>\n",
       "      <td>13</td>\n",
       "      <td>0</td>\n",
       "      <td>24246</td>\n",
       "      <td>74.932551</td>\n",
       "      <td>0</td>\n",
       "      <td>2929.646315</td>\n",
       "      <td>0.102055</td>\n",
       "      <td>2.498291</td>\n",
       "      <td>0.793724</td>\n",
       "      <td>0</td>\n",
       "      <td>49</td>\n",
       "      <td>31</td>\n",
       "      <td>311301</td>\n",
       "      <td>6619</td>\n",
       "      <td>0</td>\n",
       "      <td>0.088663</td>\n",
       "      <td>0.092116</td>\n",
       "      <td>0.088901</td>\n",
       "      <td>0.092516</td>\n",
       "    </tr>\n",
       "    <tr>\n",
       "      <th>1</th>\n",
       "      <td>3609</td>\n",
       "      <td>11940</td>\n",
       "      <td>12191.99692</td>\n",
       "      <td>12.237563</td>\n",
       "      <td>2</td>\n",
       "      <td>15.412409</td>\n",
       "      <td>0</td>\n",
       "      <td>0</td>\n",
       "      <td>12</td>\n",
       "      <td>0</td>\n",
       "      <td>812</td>\n",
       "      <td>78.297186</td>\n",
       "      <td>0</td>\n",
       "      <td>772.769385</td>\n",
       "      <td>0.036181</td>\n",
       "      <td>2.377215</td>\n",
       "      <td>0.974821</td>\n",
       "      <td>0</td>\n",
       "      <td>109</td>\n",
       "      <td>53</td>\n",
       "      <td>182610</td>\n",
       "      <td>20885</td>\n",
       "      <td>0</td>\n",
       "      <td>0.095694</td>\n",
       "      <td>0.093383</td>\n",
       "      <td>0.096714</td>\n",
       "      <td>0.092516</td>\n",
       "    </tr>\n",
       "    <tr>\n",
       "      <th>2</th>\n",
       "      <td>28276</td>\n",
       "      <td>9311</td>\n",
       "      <td>21603.22455</td>\n",
       "      <td>12.545884</td>\n",
       "      <td>5</td>\n",
       "      <td>28.137619</td>\n",
       "      <td>0</td>\n",
       "      <td>0</td>\n",
       "      <td>14</td>\n",
       "      <td>0</td>\n",
       "      <td>1843</td>\n",
       "      <td>2.073040</td>\n",
       "      <td>0</td>\n",
       "      <td>863.324396</td>\n",
       "      <td>18.778660</td>\n",
       "      <td>4.316277</td>\n",
       "      <td>1.020075</td>\n",
       "      <td>0</td>\n",
       "      <td>66</td>\n",
       "      <td>34</td>\n",
       "      <td>89801</td>\n",
       "      <td>26155</td>\n",
       "      <td>0</td>\n",
       "      <td>0.088663</td>\n",
       "      <td>0.093383</td>\n",
       "      <td>0.088901</td>\n",
       "      <td>0.092516</td>\n",
       "    </tr>\n",
       "    <tr>\n",
       "      <th>3</th>\n",
       "      <td>11170</td>\n",
       "      <td>6954</td>\n",
       "      <td>17877.15585</td>\n",
       "      <td>16.731201</td>\n",
       "      <td>2</td>\n",
       "      <td>18.043730</td>\n",
       "      <td>0</td>\n",
       "      <td>0</td>\n",
       "      <td>7</td>\n",
       "      <td>0</td>\n",
       "      <td>13819</td>\n",
       "      <td>67.467951</td>\n",
       "      <td>0</td>\n",
       "      <td>288.173196</td>\n",
       "      <td>0.044131</td>\n",
       "      <td>0.107020</td>\n",
       "      <td>0.749971</td>\n",
       "      <td>0</td>\n",
       "      <td>39</td>\n",
       "      <td>40</td>\n",
       "      <td>9189</td>\n",
       "      <td>60214</td>\n",
       "      <td>0</td>\n",
       "      <td>0.088663</td>\n",
       "      <td>0.093383</td>\n",
       "      <td>0.088901</td>\n",
       "      <td>0.092516</td>\n",
       "    </tr>\n",
       "    <tr>\n",
       "      <th>4</th>\n",
       "      <td>16890</td>\n",
       "      <td>13226</td>\n",
       "      <td>13539.92667</td>\n",
       "      <td>15.008300</td>\n",
       "      <td>2</td>\n",
       "      <td>17.209886</td>\n",
       "      <td>0</td>\n",
       "      <td>3</td>\n",
       "      <td>13</td>\n",
       "      <td>1</td>\n",
       "      <td>1544</td>\n",
       "      <td>85.250761</td>\n",
       "      <td>1</td>\n",
       "      <td>129.239553</td>\n",
       "      <td>19.306646</td>\n",
       "      <td>1294.818751</td>\n",
       "      <td>0.368953</td>\n",
       "      <td>0</td>\n",
       "      <td>18</td>\n",
       "      <td>430</td>\n",
       "      <td>126029</td>\n",
       "      <td>22579</td>\n",
       "      <td>0</td>\n",
       "      <td>0.088663</td>\n",
       "      <td>0.093383</td>\n",
       "      <td>0.088901</td>\n",
       "      <td>0.092516</td>\n",
       "    </tr>\n",
       "  </tbody>\n",
       "</table>\n",
       "</div>"
      ],
      "text/plain": [
       "   Loan Amount  Funded Amount  Funded Amount Investor  Interest Rate  Grade  \\\n",
       "0        10000          32236             12329.36286      11.135007      1   \n",
       "1         3609          11940             12191.99692      12.237563      2   \n",
       "2        28276           9311             21603.22455      12.545884      5   \n",
       "3        11170           6954             17877.15585      16.731201      2   \n",
       "4        16890          13226             13539.92667      15.008300      2   \n",
       "\n",
       "   Debit to Income  Delinquency - two years  Inquires - six months  \\\n",
       "0        16.284758                        0                      0   \n",
       "1        15.412409                        0                      0   \n",
       "2        28.137619                        0                      0   \n",
       "3        18.043730                        0                      0   \n",
       "4        17.209886                        0                      3   \n",
       "\n",
       "   Open Account  Public Record  Revolving Balance  Revolving Utilities  \\\n",
       "0            13              0              24246            74.932551   \n",
       "1            12              0                812            78.297186   \n",
       "2            14              0               1843             2.073040   \n",
       "3             7              0              13819            67.467951   \n",
       "4            13              1               1544            85.250761   \n",
       "\n",
       "   Total Accounts  Total Received Interest  Total Received Late Fee  \\\n",
       "0               0              2929.646315                 0.102055   \n",
       "1               0               772.769385                 0.036181   \n",
       "2               0               863.324396                18.778660   \n",
       "3               0               288.173196                 0.044131   \n",
       "4               1               129.239553                19.306646   \n",
       "\n",
       "    Recoveries  Collection Recovery Fee  Collection 12 months Medical  \\\n",
       "0     2.498291                 0.793724                             0   \n",
       "1     2.377215                 0.974821                             0   \n",
       "2     4.316277                 1.020075                             0   \n",
       "3     0.107020                 0.749971                             0   \n",
       "4  1294.818751                 0.368953                             0   \n",
       "\n",
       "   Last week Pay  Total Collection Amount  Total Current Balance  \\\n",
       "0             49                       31                 311301   \n",
       "1            109                       53                 182610   \n",
       "2             66                       34                  89801   \n",
       "3             39                       40                   9189   \n",
       "4             18                      430                 126029   \n",
       "\n",
       "   Total Revolving Credit Limit  Loan Status  Ownership_enc  Verification_enc  \\\n",
       "0                          6619            0       0.088663          0.092116   \n",
       "1                         20885            0       0.095694          0.093383   \n",
       "2                         26155            0       0.088663          0.093383   \n",
       "3                         60214            0       0.088663          0.093383   \n",
       "4                         22579            0       0.088663          0.093383   \n",
       "\n",
       "   Initial_enc  Application_enc  \n",
       "0     0.088901         0.092516  \n",
       "1     0.096714         0.092516  \n",
       "2     0.088901         0.092516  \n",
       "3     0.088901         0.092516  \n",
       "4     0.088901         0.092516  "
      ]
     },
     "execution_count": 128,
     "metadata": {},
     "output_type": "execute_result"
    }
   ],
   "source": [
    "loan_train.head()"
   ]
  },
  {
   "cell_type": "markdown",
   "metadata": {},
   "source": [
    "#### Model Building"
   ]
  },
  {
   "cell_type": "code",
   "execution_count": 129,
   "metadata": {},
   "outputs": [],
   "source": [
    "from sklearn.model_selection import StratifiedKFold\n",
    "StratifiedKF = StratifiedKFold(n_splits= 20, shuffle=True, random_state=1)"
   ]
  },
  {
   "cell_type": "code",
   "execution_count": 130,
   "metadata": {},
   "outputs": [],
   "source": [
    "X= loan_train.drop(columns= ['Loan Status'])\n",
    "y= loan_train['Loan Status']"
   ]
  },
  {
   "cell_type": "code",
   "execution_count": 131,
   "metadata": {},
   "outputs": [],
   "source": [
    "### Splitting the data into train and test through Stratified Cross Validation (Imbalanced data)\n",
    "for train_index, test_index in StratifiedKF.split(X, y):\n",
    "    X_train, X_test = X.iloc[train_index, :], X.iloc[test_index,:]\n",
    "    y_train, y_test = y[train_index], y[test_index]"
   ]
  },
  {
   "cell_type": "markdown",
   "metadata": {},
   "source": [
    "**REFERENCE: https://analyticsindiamag.com/hands-on-tutorial-on-performance-measure-of-stratified-k-fold-cross-validation/**"
   ]
  },
  {
   "cell_type": "code",
   "execution_count": 132,
   "metadata": {},
   "outputs": [
    {
     "data": {
      "text/plain": [
       "((64090, 26), (3373, 26))"
      ]
     },
     "execution_count": 132,
     "metadata": {},
     "output_type": "execute_result"
    }
   ],
   "source": [
    "X_train.shape, X_test.shape"
   ]
  },
  {
   "cell_type": "markdown",
   "metadata": {},
   "source": [
    "**Random Forest Model (No Tuning)**"
   ]
  },
  {
   "cell_type": "code",
   "execution_count": 133,
   "metadata": {},
   "outputs": [],
   "source": [
    "from sklearn.metrics import log_loss, accuracy_score\n",
    "from sklearn.model_selection import cross_val_predict\n",
    "from sklearn.ensemble import RandomForestClassifier"
   ]
  },
  {
   "cell_type": "code",
   "execution_count": 134,
   "metadata": {},
   "outputs": [],
   "source": [
    "model1 = RandomForestClassifier()"
   ]
  },
  {
   "cell_type": "code",
   "execution_count": 135,
   "metadata": {},
   "outputs": [],
   "source": [
    "model1.fit(X_train, y_train)\n",
    "CV_train_pred = cross_val_predict(model1, X_train, y_train, cv= 10, n_jobs=-1)\n",
    "train_accuracy = round(accuracy_score(y_train, CV_train_pred)*100, 2)\n",
    "\n",
    "y_pred = model1.predict(X_test)\n",
    "test_accuracy = round(accuracy_score(y_test, y_pred)*100, 2)"
   ]
  },
  {
   "cell_type": "code",
   "execution_count": 136,
   "metadata": {},
   "outputs": [
    {
     "name": "stdout",
     "output_type": "stream",
     "text": [
      "Training Accuracy: 90.75%\n",
      "Testing Accuracy: 90.75%\n"
     ]
    }
   ],
   "source": [
    "print(f\"Training Accuracy: {train_accuracy}%\")\n",
    "print(f\"Testing Accuracy: {test_accuracy}%\")"
   ]
  },
  {
   "cell_type": "code",
   "execution_count": 165,
   "metadata": {},
   "outputs": [
    {
     "data": {
      "text/plain": [
       "0.3641945448928134"
      ]
     },
     "execution_count": 165,
     "metadata": {},
     "output_type": "execute_result"
    }
   ],
   "source": [
    "y_pred_clipped = np.clip(y_pred, 0.025, 0.975)\n",
    "log_loss(y_test, y_pred_clipped)"
   ]
  },
  {
   "cell_type": "markdown",
   "metadata": {},
   "source": [
    "### Submission Prediction"
   ]
  },
  {
   "cell_type": "code",
   "execution_count": 143,
   "metadata": {},
   "outputs": [
    {
     "data": {
      "text/html": [
       "<div>\n",
       "<style scoped>\n",
       "    .dataframe tbody tr th:only-of-type {\n",
       "        vertical-align: middle;\n",
       "    }\n",
       "\n",
       "    .dataframe tbody tr th {\n",
       "        vertical-align: top;\n",
       "    }\n",
       "\n",
       "    .dataframe thead th {\n",
       "        text-align: right;\n",
       "    }\n",
       "</style>\n",
       "<table border=\"1\" class=\"dataframe\">\n",
       "  <thead>\n",
       "    <tr style=\"text-align: right;\">\n",
       "      <th></th>\n",
       "      <th>Loan Amount</th>\n",
       "      <th>Funded Amount</th>\n",
       "      <th>Funded Amount Investor</th>\n",
       "      <th>Interest Rate</th>\n",
       "      <th>Grade</th>\n",
       "      <th>Debit to Income</th>\n",
       "      <th>Delinquency - two years</th>\n",
       "      <th>Inquires - six months</th>\n",
       "      <th>Open Account</th>\n",
       "      <th>Public Record</th>\n",
       "      <th>Revolving Balance</th>\n",
       "      <th>Revolving Utilities</th>\n",
       "      <th>Total Accounts</th>\n",
       "      <th>Total Received Interest</th>\n",
       "      <th>Total Received Late Fee</th>\n",
       "      <th>Recoveries</th>\n",
       "      <th>Collection Recovery Fee</th>\n",
       "      <th>Collection 12 months Medical</th>\n",
       "      <th>Last week Pay</th>\n",
       "      <th>Total Collection Amount</th>\n",
       "      <th>Total Current Balance</th>\n",
       "      <th>Total Revolving Credit Limit</th>\n",
       "      <th>Loan Status</th>\n",
       "      <th>Ownership_enc</th>\n",
       "      <th>Verification_enc</th>\n",
       "      <th>Initial_enc</th>\n",
       "      <th>Application_enc</th>\n",
       "    </tr>\n",
       "  </thead>\n",
       "  <tbody>\n",
       "    <tr>\n",
       "      <th>0</th>\n",
       "      <td>17120</td>\n",
       "      <td>10365</td>\n",
       "      <td>16025.082690</td>\n",
       "      <td>12.163926</td>\n",
       "      <td>0</td>\n",
       "      <td>16.749219</td>\n",
       "      <td>0</td>\n",
       "      <td>0</td>\n",
       "      <td>12</td>\n",
       "      <td>1</td>\n",
       "      <td>3576</td>\n",
       "      <td>67.278287</td>\n",
       "      <td>0</td>\n",
       "      <td>4469.449851</td>\n",
       "      <td>0.088031</td>\n",
       "      <td>8.425776</td>\n",
       "      <td>0.731797</td>\n",
       "      <td>0</td>\n",
       "      <td>135</td>\n",
       "      <td>24</td>\n",
       "      <td>475442</td>\n",
       "      <td>4364</td>\n",
       "      <td>NaN</td>\n",
       "      <td>0.095694</td>\n",
       "      <td>0.093383</td>\n",
       "      <td>0.096714</td>\n",
       "      <td>0.092516</td>\n",
       "    </tr>\n",
       "    <tr>\n",
       "      <th>1</th>\n",
       "      <td>7133</td>\n",
       "      <td>11650</td>\n",
       "      <td>12615.795600</td>\n",
       "      <td>6.564296</td>\n",
       "      <td>1</td>\n",
       "      <td>18.157975</td>\n",
       "      <td>0</td>\n",
       "      <td>0</td>\n",
       "      <td>11</td>\n",
       "      <td>0</td>\n",
       "      <td>1932</td>\n",
       "      <td>71.313157</td>\n",
       "      <td>0</td>\n",
       "      <td>993.907530</td>\n",
       "      <td>0.041237</td>\n",
       "      <td>6.157008</td>\n",
       "      <td>0.992918</td>\n",
       "      <td>0</td>\n",
       "      <td>56</td>\n",
       "      <td>1</td>\n",
       "      <td>72412</td>\n",
       "      <td>2573</td>\n",
       "      <td>NaN</td>\n",
       "      <td>0.088663</td>\n",
       "      <td>0.093383</td>\n",
       "      <td>0.088901</td>\n",
       "      <td>0.092516</td>\n",
       "    </tr>\n",
       "    <tr>\n",
       "      <th>2</th>\n",
       "      <td>25291</td>\n",
       "      <td>25825</td>\n",
       "      <td>11621.280830</td>\n",
       "      <td>14.729900</td>\n",
       "      <td>0</td>\n",
       "      <td>15.190011</td>\n",
       "      <td>0</td>\n",
       "      <td>0</td>\n",
       "      <td>22</td>\n",
       "      <td>0</td>\n",
       "      <td>598</td>\n",
       "      <td>50.883065</td>\n",
       "      <td>1</td>\n",
       "      <td>729.113379</td>\n",
       "      <td>0.021745</td>\n",
       "      <td>5.705077</td>\n",
       "      <td>0.281580</td>\n",
       "      <td>0</td>\n",
       "      <td>3</td>\n",
       "      <td>26</td>\n",
       "      <td>284825</td>\n",
       "      <td>19676</td>\n",
       "      <td>NaN</td>\n",
       "      <td>0.088663</td>\n",
       "      <td>0.093383</td>\n",
       "      <td>0.096714</td>\n",
       "      <td>0.092516</td>\n",
       "    </tr>\n",
       "    <tr>\n",
       "      <th>3</th>\n",
       "      <td>30781</td>\n",
       "      <td>9664</td>\n",
       "      <td>15375.823510</td>\n",
       "      <td>10.523767</td>\n",
       "      <td>0</td>\n",
       "      <td>21.292550</td>\n",
       "      <td>0</td>\n",
       "      <td>0</td>\n",
       "      <td>11</td>\n",
       "      <td>0</td>\n",
       "      <td>5222</td>\n",
       "      <td>82.449083</td>\n",
       "      <td>1</td>\n",
       "      <td>715.867091</td>\n",
       "      <td>0.092398</td>\n",
       "      <td>2.469688</td>\n",
       "      <td>0.959162</td>\n",
       "      <td>0</td>\n",
       "      <td>21</td>\n",
       "      <td>32</td>\n",
       "      <td>40842</td>\n",
       "      <td>7226</td>\n",
       "      <td>NaN</td>\n",
       "      <td>0.095694</td>\n",
       "      <td>0.091271</td>\n",
       "      <td>0.088901</td>\n",
       "      <td>0.092516</td>\n",
       "    </tr>\n",
       "    <tr>\n",
       "      <th>4</th>\n",
       "      <td>8878</td>\n",
       "      <td>9419</td>\n",
       "      <td>7176.647582</td>\n",
       "      <td>9.997013</td>\n",
       "      <td>2</td>\n",
       "      <td>4.812117</td>\n",
       "      <td>0</td>\n",
       "      <td>0</td>\n",
       "      <td>11</td>\n",
       "      <td>0</td>\n",
       "      <td>553</td>\n",
       "      <td>49.075855</td>\n",
       "      <td>0</td>\n",
       "      <td>248.572854</td>\n",
       "      <td>0.010354</td>\n",
       "      <td>2.127835</td>\n",
       "      <td>0.402315</td>\n",
       "      <td>0</td>\n",
       "      <td>104</td>\n",
       "      <td>33</td>\n",
       "      <td>90825</td>\n",
       "      <td>26145</td>\n",
       "      <td>NaN</td>\n",
       "      <td>0.101551</td>\n",
       "      <td>0.091271</td>\n",
       "      <td>0.088901</td>\n",
       "      <td>0.092516</td>\n",
       "    </tr>\n",
       "  </tbody>\n",
       "</table>\n",
       "</div>"
      ],
      "text/plain": [
       "   Loan Amount  Funded Amount  Funded Amount Investor  Interest Rate  Grade  \\\n",
       "0        17120          10365            16025.082690      12.163926      0   \n",
       "1         7133          11650            12615.795600       6.564296      1   \n",
       "2        25291          25825            11621.280830      14.729900      0   \n",
       "3        30781           9664            15375.823510      10.523767      0   \n",
       "4         8878           9419             7176.647582       9.997013      2   \n",
       "\n",
       "   Debit to Income  Delinquency - two years  Inquires - six months  \\\n",
       "0        16.749219                        0                      0   \n",
       "1        18.157975                        0                      0   \n",
       "2        15.190011                        0                      0   \n",
       "3        21.292550                        0                      0   \n",
       "4         4.812117                        0                      0   \n",
       "\n",
       "   Open Account  Public Record  Revolving Balance  Revolving Utilities  \\\n",
       "0            12              1               3576            67.278287   \n",
       "1            11              0               1932            71.313157   \n",
       "2            22              0                598            50.883065   \n",
       "3            11              0               5222            82.449083   \n",
       "4            11              0                553            49.075855   \n",
       "\n",
       "   Total Accounts  Total Received Interest  Total Received Late Fee  \\\n",
       "0               0              4469.449851                 0.088031   \n",
       "1               0               993.907530                 0.041237   \n",
       "2               1               729.113379                 0.021745   \n",
       "3               1               715.867091                 0.092398   \n",
       "4               0               248.572854                 0.010354   \n",
       "\n",
       "   Recoveries  Collection Recovery Fee  Collection 12 months Medical  \\\n",
       "0    8.425776                 0.731797                             0   \n",
       "1    6.157008                 0.992918                             0   \n",
       "2    5.705077                 0.281580                             0   \n",
       "3    2.469688                 0.959162                             0   \n",
       "4    2.127835                 0.402315                             0   \n",
       "\n",
       "   Last week Pay  Total Collection Amount  Total Current Balance  \\\n",
       "0            135                       24                 475442   \n",
       "1             56                        1                  72412   \n",
       "2              3                       26                 284825   \n",
       "3             21                       32                  40842   \n",
       "4            104                       33                  90825   \n",
       "\n",
       "   Total Revolving Credit Limit  Loan Status  Ownership_enc  Verification_enc  \\\n",
       "0                          4364          NaN       0.095694          0.093383   \n",
       "1                          2573          NaN       0.088663          0.093383   \n",
       "2                         19676          NaN       0.088663          0.093383   \n",
       "3                          7226          NaN       0.095694          0.091271   \n",
       "4                         26145          NaN       0.101551          0.091271   \n",
       "\n",
       "   Initial_enc  Application_enc  \n",
       "0     0.096714         0.092516  \n",
       "1     0.088901         0.092516  \n",
       "2     0.096714         0.092516  \n",
       "3     0.088901         0.092516  \n",
       "4     0.088901         0.092516  "
      ]
     },
     "execution_count": 143,
     "metadata": {},
     "output_type": "execute_result"
    }
   ],
   "source": [
    "loan_test.head()"
   ]
  },
  {
   "cell_type": "code",
   "execution_count": 144,
   "metadata": {},
   "outputs": [],
   "source": [
    "model1.fit(X, y)\n",
    "y_pred_new = model1.predict(loan_test.drop(columns= ['Loan Status']))\n",
    "y_pred_final = np.clip(y_pred_new, 0.025, 0.975)"
   ]
  },
  {
   "cell_type": "code",
   "execution_count": 155,
   "metadata": {},
   "outputs": [],
   "source": [
    "Predictions = pd.DataFrame(y_pred_final, columns=['Loan_Status'])"
   ]
  },
  {
   "cell_type": "code",
   "execution_count": 156,
   "metadata": {},
   "outputs": [
    {
     "data": {
      "text/plain": [
       "0.025    28766\n",
       "0.975      147\n",
       "Name: Loan_Status, dtype: int64"
      ]
     },
     "execution_count": 156,
     "metadata": {},
     "output_type": "execute_result"
    }
   ],
   "source": [
    "Predictions.Loan_Status.value_counts()"
   ]
  },
  {
   "cell_type": "code",
   "execution_count": 163,
   "metadata": {},
   "outputs": [],
   "source": [
    "Predictions.to_csv('Submission1.csv', index= False)"
   ]
  },
  {
   "cell_type": "code",
   "execution_count": null,
   "metadata": {},
   "outputs": [],
   "source": []
  }
 ],
 "metadata": {
  "kernelspec": {
   "display_name": "Python 3.8.10 ('base')",
   "language": "python",
   "name": "python3"
  },
  "language_info": {
   "codemirror_mode": {
    "name": "ipython",
    "version": 3
   },
   "file_extension": ".py",
   "mimetype": "text/x-python",
   "name": "python",
   "nbconvert_exporter": "python",
   "pygments_lexer": "ipython3",
   "version": "3.8.10"
  },
  "orig_nbformat": 4,
  "vscode": {
   "interpreter": {
    "hash": "16f5b46f222e2a3e8d4adbf7141cae37b71ed37616e60735fa5d1164a1bc3ada"
   }
  }
 },
 "nbformat": 4,
 "nbformat_minor": 2
}
